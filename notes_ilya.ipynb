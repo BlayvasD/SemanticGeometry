{
 "cells": [
  {
   "cell_type": "code",
   "execution_count": 23,
   "outputs": [],
   "source": [
    "import math\n",
    "import os\n",
    "from tempfile import TemporaryDirectory\n",
    "from typing import Tuple\n",
    "\n",
    "import torch\n",
    "from torch import nn, Tensor\n",
    "from torch.nn import TransformerEncoder, TransformerEncoderLayer\n",
    "from torch.utils.data import dataset"
   ],
   "metadata": {
    "collapsed": false,
    "ExecuteTime": {
     "end_time": "2023-12-19T03:32:41.175935600Z",
     "start_time": "2023-12-19T03:32:41.165349900Z"
    }
   },
   "id": "62016cab48535386"
  },
  {
   "cell_type": "code",
   "execution_count": 0,
   "outputs": [],
   "source": [
    "\n",
    "class TransformerModel(nn.Module):\n",
    "\n",
    "    def __init__(self, ntoken: int, d_model: int, nhead: int, d_hid: int,\n",
    "                 nlayers: int, dropout: float = 0.5):\n",
    "        super().__init__()\n",
    "        self.model_type = 'Transformer'\n",
    "        self.pos_encoder = PositionalEncoding(d_model, dropout)\n",
    "        encoder_layers = TransformerEncoderLayer(d_model, nhead, d_hid, dropout)\n",
    "        self.transformer_encoder = TransformerEncoder(encoder_layers, nlayers)\n",
    "        self.embedding = nn.Embedding(ntoken, d_model)\n",
    "        self.d_model = d_model\n",
    "        self.linear = nn.Linear(d_model, ntoken)\n",
    "\n",
    "        self.init_weights()\n",
    "\n",
    "    def init_weights(self) -> None:\n",
    "        initrange = 0.1\n",
    "        self.embedding.weight.data.uniform_(-initrange, initrange)\n",
    "        self.linear.bias.data.zero_()\n",
    "        self.linear.weight.data.uniform_(-initrange, initrange)\n",
    "\n",
    "    def forward(self, src: Tensor, src_mask: Tensor = None) -> Tensor:\n",
    "        \"\"\"\n",
    "        Arguments:\n",
    "            src: Tensor, shape ``[seq_len, batch_size]``\n",
    "            src_mask: Tensor, shape ``[seq_len, seq_len]``\n",
    "\n",
    "        Returns:\n",
    "            output Tensor of shape ``[seq_len, batch_size, ntoken]``\n",
    "        \"\"\"\n",
    "        src = self.embedding(src) * math.sqrt(self.d_model)\n",
    "        src = self.pos_encoder(src)\n",
    "        if src_mask is None:\n",
    "            \"\"\"Generate a square causal mask for the sequence. The masked positions are filled with float('-inf').\n",
    "            Unmasked positions are filled with float(0.0).\n",
    "            \"\"\"\n",
    "            src_mask = nn.Transformer.generate_square_subsequent_mask(len(src)).to(device)\n",
    "        output = self.transformer_encoder(src, src_mask)\n",
    "        output = self.linear(output)\n",
    "        return output\n",
    "    "
   ],
   "metadata": {
    "collapsed": false
   },
   "id": "1ae3e77c0437e9bd"
  },
  {
   "cell_type": "code",
   "execution_count": 0,
   "outputs": [],
   "source": [
    "class PositionalEncoding(nn.Module):\n",
    "\n",
    "    def __init__(self, d_model: int, dropout: float = 0.1, max_len: int = 5000):\n",
    "        super().__init__()\n",
    "        self.dropout = nn.Dropout(p=dropout)\n",
    "\n",
    "        position = torch.arange(max_len).unsqueeze(1)\n",
    "        div_term = torch.exp(torch.arange(0, d_model, 2) * (-math.log(10000.0) / d_model))\n",
    "        pe = torch.zeros(max_len, 1, d_model)\n",
    "        pe[:, 0, 0::2] = torch.sin(position * div_term)\n",
    "        pe[:, 0, 1::2] = torch.cos(position * div_term)\n",
    "        self.register_buffer('pe', pe)\n",
    "\n",
    "    def forward(self, x: Tensor) -> Tensor:\n",
    "        \"\"\"\n",
    "        Arguments:\n",
    "            x: Tensor, shape ``[seq_len, batch_size, embedding_dim]``\n",
    "        \"\"\"\n",
    "        x = x + self.pe[:x.size(0)]\n",
    "        return self.dropout(x)\n",
    "    \n",
    "    "
   ],
   "metadata": {
    "collapsed": false
   },
   "id": "7f6a54cef4bb8cde"
  },
  {
   "cell_type": "code",
   "execution_count": 0,
   "outputs": [],
   "source": [
    "# pip install portalocker\n",
    "# pip install torchdata"
   ],
   "metadata": {
    "collapsed": false
   },
   "id": "d886062fb778dff1"
  },
  {
   "cell_type": "code",
   "execution_count": 40,
   "outputs": [
    {
     "name": "stdout",
     "output_type": "stream",
     "text": [
      "Requirement already satisfied: torchtext in c:\\users\\ilya\\anaconda3\\envs\\p39\\lib\\site-packages (0.16.2)\r\n",
      "Requirement already satisfied: tqdm in c:\\users\\ilya\\anaconda3\\envs\\p39\\lib\\site-packages (from torchtext) (4.66.1)\r\n",
      "Requirement already satisfied: requests in c:\\users\\ilya\\anaconda3\\envs\\p39\\lib\\site-packages (from torchtext) (2.31.0)\r\n",
      "Requirement already satisfied: torch==2.1.2 in c:\\users\\ilya\\anaconda3\\envs\\p39\\lib\\site-packages (from torchtext) (2.1.2)\r\n",
      "Requirement already satisfied: numpy in c:\\users\\ilya\\anaconda3\\envs\\p39\\lib\\site-packages (from torchtext) (1.26.2)\r\n",
      "Requirement already satisfied: torchdata==0.7.1 in c:\\users\\ilya\\anaconda3\\envs\\p39\\lib\\site-packages (from torchtext) (0.7.1)\r\n",
      "Requirement already satisfied: filelock in c:\\users\\ilya\\anaconda3\\envs\\p39\\lib\\site-packages (from torch==2.1.2->torchtext) (3.13.1)\r\n",
      "Requirement already satisfied: typing-extensions in c:\\users\\ilya\\anaconda3\\envs\\p39\\lib\\site-packages (from torch==2.1.2->torchtext) (4.7.1)\r\n",
      "Requirement already satisfied: sympy in c:\\users\\ilya\\anaconda3\\envs\\p39\\lib\\site-packages (from torch==2.1.2->torchtext) (1.12)\r\n",
      "Requirement already satisfied: networkx in c:\\users\\ilya\\anaconda3\\envs\\p39\\lib\\site-packages (from torch==2.1.2->torchtext) (3.2.1)\r\n",
      "Requirement already satisfied: jinja2 in c:\\users\\ilya\\anaconda3\\envs\\p39\\lib\\site-packages (from torch==2.1.2->torchtext) (3.1.2)\r\n",
      "Requirement already satisfied: fsspec in c:\\users\\ilya\\anaconda3\\envs\\p39\\lib\\site-packages (from torch==2.1.2->torchtext) (2023.12.2)\r\n",
      "Requirement already satisfied: urllib3>=1.25 in c:\\users\\ilya\\anaconda3\\envs\\p39\\lib\\site-packages (from torchdata==0.7.1->torchtext) (1.26.18)\r\n",
      "Requirement already satisfied: charset-normalizer<4,>=2 in c:\\users\\ilya\\anaconda3\\envs\\p39\\lib\\site-packages (from requests->torchtext) (2.0.4)\r\n",
      "Requirement already satisfied: idna<4,>=2.5 in c:\\users\\ilya\\anaconda3\\envs\\p39\\lib\\site-packages (from requests->torchtext) (3.4)\r\n",
      "Requirement already satisfied: certifi>=2017.4.17 in c:\\users\\ilya\\anaconda3\\envs\\p39\\lib\\site-packages (from requests->torchtext) (2023.11.17)\r\n",
      "Requirement already satisfied: colorama in c:\\users\\ilya\\anaconda3\\envs\\p39\\lib\\site-packages (from tqdm->torchtext) (0.4.6)\r\n",
      "Requirement already satisfied: MarkupSafe>=2.0 in c:\\users\\ilya\\anaconda3\\envs\\p39\\lib\\site-packages (from jinja2->torch==2.1.2->torchtext) (2.1.1)\r\n",
      "Requirement already satisfied: mpmath>=0.19 in c:\\users\\ilya\\anaconda3\\envs\\p39\\lib\\site-packages (from sympy->torch==2.1.2->torchtext) (1.3.0)\r\n"
     ]
    }
   ],
   "source": [
    "%%bash\n",
    "pip install torchtext"
   ],
   "metadata": {
    "collapsed": false,
    "ExecuteTime": {
     "end_time": "2023-12-19T03:41:34.744338Z",
     "start_time": "2023-12-19T03:41:33.225723700Z"
    }
   },
   "id": "d31409c7a373f871"
  },
  {
   "cell_type": "code",
   "execution_count": 41,
   "outputs": [],
   "source": [
    "from torchtext.datasets import WikiText2\n",
    "from torchtext.data.utils import get_tokenizer\n",
    "from torchtext.vocab import build_vocab_from_iterator\n",
    "\n",
    "train_iter = WikiText2(split='train')\n",
    "tokenizer = get_tokenizer('basic_english')\n",
    "vocab = build_vocab_from_iterator(map(tokenizer, train_iter), specials=['<unk>'])\n",
    "vocab.set_default_index(vocab['<unk>'])\n",
    "\n",
    "def data_process(raw_text_iter: dataset.IterableDataset) -> Tensor:\n",
    "    \"\"\"Converts raw text into a flat Tensor.\"\"\"\n",
    "    data = [torch.tensor(vocab(tokenizer(item)), dtype=torch.long) for item in raw_text_iter]\n",
    "    return torch.cat(tuple(filter(lambda t: t.numel() > 0, data)))\n",
    "\n",
    "# ``train_iter`` was \"consumed\" by the process of building the vocab,\n",
    "# so we have to create it again\n",
    "train_iter, val_iter, test_iter = WikiText2()\n",
    "train_data = data_process(train_iter)\n",
    "val_data = data_process(val_iter)\n",
    "test_data = data_process(test_iter)\n",
    "\n",
    "device = torch.device('cuda' if torch.cuda.is_available() else 'cpu')\n",
    "\n",
    "def batchify(data: Tensor, bsz: int) -> Tensor:\n",
    "    \"\"\"Divides the data into ``bsz`` separate sequences, removing extra elements\n",
    "    that wouldn't cleanly fit.\n",
    "\n",
    "    Arguments:\n",
    "        data: Tensor, shape ``[N]``\n",
    "        bsz: int, batch size\n",
    "\n",
    "    Returns:\n",
    "        Tensor of shape ``[N // bsz, bsz]``\n",
    "    \"\"\"\n",
    "    seq_len = data.size(0) // bsz\n",
    "    data = data[:seq_len * bsz]\n",
    "    data = data.view(bsz, seq_len).t().contiguous()\n",
    "    return data.to(device)\n",
    "\n",
    "batch_size = 20\n",
    "eval_batch_size = 10\n",
    "train_data = batchify(train_data, batch_size)  # shape ``[seq_len, batch_size]``\n",
    "val_data = batchify(val_data, eval_batch_size)\n",
    "test_data = batchify(test_data, eval_batch_size)"
   ],
   "metadata": {
    "collapsed": false,
    "ExecuteTime": {
     "end_time": "2023-12-19T03:41:47.110122900Z",
     "start_time": "2023-12-19T03:41:40.483326600Z"
    }
   },
   "id": "26ff7175ffafc470"
  },
  {
   "cell_type": "code",
   "execution_count": 45,
   "outputs": [],
   "source": [
    "bptt = 35\n",
    "def get_batch(source: Tensor, i: int) -> Tuple[Tensor, Tensor]:\n",
    "    \"\"\"\n",
    "    Args:\n",
    "        source: Tensor, shape ``[full_seq_len, batch_size]``\n",
    "        i: int\n",
    "\n",
    "    Returns:\n",
    "        tuple (data, target), where data has shape ``[seq_len, batch_size]`` and\n",
    "        target has shape ``[seq_len * batch_size]``\n",
    "    \"\"\"\n",
    "    seq_len = min(bptt, len(source) - 1 - i)\n",
    "    data = source[i:i+seq_len]\n",
    "    target = source[i+1:i+1+seq_len].reshape(-1)\n",
    "    return data, target"
   ],
   "metadata": {
    "collapsed": false,
    "ExecuteTime": {
     "end_time": "2023-12-19T03:42:34.254656500Z",
     "start_time": "2023-12-19T03:42:34.237576600Z"
    }
   },
   "id": "e11b24eabd79dae"
  },
  {
   "cell_type": "code",
   "execution_count": 46,
   "outputs": [
    {
     "name": "stderr",
     "output_type": "stream",
     "text": [
      "C:\\Users\\ilya\\anaconda3\\envs\\p39\\lib\\site-packages\\torch\\nn\\modules\\transformer.py:282: UserWarning: enable_nested_tensor is True, but self.use_nested_tensor is False because encoder_layer.self_attn.batch_first was not True(use batch_first for better inference performance)\n",
      "  warnings.warn(f\"enable_nested_tensor is True, but self.use_nested_tensor is False because {why_not_sparsity_fast_path}\")\n"
     ]
    }
   ],
   "source": [
    "ntokens = len(vocab)  # size of vocabulary\n",
    "emsize = 200  # embedding dimension\n",
    "d_hid = 200  # dimension of the feedforward network model in ``nn.TransformerEncoder``\n",
    "nlayers = 2  # number of ``nn.TransformerEncoderLayer`` in ``nn.TransformerEncoder``\n",
    "nhead = 2  # number of heads in ``nn.MultiheadAttention``\n",
    "dropout = 0.2  # dropout probability\n",
    "model = TransformerModel(ntokens, emsize, nhead, d_hid, nlayers, dropout).to(device)"
   ],
   "metadata": {
    "collapsed": false,
    "ExecuteTime": {
     "end_time": "2023-12-19T03:42:50.273154400Z",
     "start_time": "2023-12-19T03:42:50.073024100Z"
    }
   },
   "id": "f6649f5e987bd69d"
  },
  {
   "cell_type": "code",
   "execution_count": 0,
   "outputs": [],
   "source": [
    "import time\n",
    "\n",
    "criterion = nn.CrossEntropyLoss()\n",
    "lr = 5.0  # learning rate\n",
    "optimizer = torch.optim.SGD(model.parameters(), lr=lr)\n",
    "scheduler = torch.optim.lr_scheduler.StepLR(optimizer, 1.0, gamma=0.95)\n",
    "\n",
    "def train(model: nn.Module) -> None:\n",
    "    model.train()  # turn on train mode\n",
    "    total_loss = 0.\n",
    "    log_interval = 200\n",
    "    start_time = time.time()\n",
    "\n",
    "    num_batches = len(train_data) // bptt\n",
    "    for batch, i in enumerate(range(0, train_data.size(0) - 1, bptt)):\n",
    "        data, targets = get_batch(train_data, i)\n",
    "        output = model(data)\n",
    "        output_flat = output.view(-1, ntokens)\n",
    "        loss = criterion(output_flat, targets)\n",
    "\n",
    "        optimizer.zero_grad()\n",
    "        loss.backward()\n",
    "        torch.nn.utils.clip_grad_norm_(model.parameters(), 0.5)\n",
    "        optimizer.step()\n",
    "\n",
    "        total_loss += loss.item()\n",
    "        if batch % log_interval == 0 and batch > 0:\n",
    "            lr = scheduler.get_last_lr()[0]\n",
    "            ms_per_batch = (time.time() - start_time) * 1000 / log_interval\n",
    "            cur_loss = total_loss / log_interval\n",
    "            ppl = math.exp(cur_loss)\n",
    "            print(f'| epoch {epoch:3d} | {batch:5d}/{num_batches:5d} batches | '\n",
    "                  f'lr {lr:02.2f} | ms/batch {ms_per_batch:5.2f} | '\n",
    "                  f'loss {cur_loss:5.2f} | ppl {ppl:8.2f}')\n",
    "            total_loss = 0\n",
    "            start_time = time.time()\n",
    "\n",
    "def evaluate(model: nn.Module, eval_data: Tensor) -> float:\n",
    "    model.eval()  # turn on evaluation mode\n",
    "    total_loss = 0.\n",
    "    with torch.no_grad():\n",
    "        for i in range(0, eval_data.size(0) - 1, bptt):\n",
    "            data, targets = get_batch(eval_data, i)\n",
    "            seq_len = data.size(0)\n",
    "            output = model(data)\n",
    "            output_flat = output.view(-1, ntokens)\n",
    "            total_loss += seq_len * criterion(output_flat, targets).item()\n",
    "    return total_loss / (len(eval_data) - 1)"
   ],
   "metadata": {
    "collapsed": false
   },
   "id": "8293d59742313d7a"
  },
  {
   "cell_type": "code",
   "execution_count": 49,
   "outputs": [
    {
     "name": "stdout",
     "output_type": "stream",
     "text": [
      "| epoch   1 |   200/ 2928 batches | lr 4.29 | ms/batch 16.90 | loss  5.44 | ppl   231.16\n",
      "| epoch   1 |   400/ 2928 batches | lr 4.29 | ms/batch 15.25 | loss  5.46 | ppl   235.60\n",
      "| epoch   1 |   600/ 2928 batches | lr 4.29 | ms/batch 15.57 | loss  5.27 | ppl   193.68\n",
      "| epoch   1 |   800/ 2928 batches | lr 4.29 | ms/batch 15.51 | loss  5.33 | ppl   206.29\n",
      "| epoch   1 |  1000/ 2928 batches | lr 4.29 | ms/batch 15.54 | loss  5.29 | ppl   198.43\n",
      "| epoch   1 |  1200/ 2928 batches | lr 4.29 | ms/batch 14.51 | loss  5.34 | ppl   208.93\n",
      "| epoch   1 |  1400/ 2928 batches | lr 4.29 | ms/batch 14.54 | loss  5.36 | ppl   211.91\n",
      "| epoch   1 |  1600/ 2928 batches | lr 4.29 | ms/batch 15.97 | loss  5.38 | ppl   217.80\n",
      "| epoch   1 |  1800/ 2928 batches | lr 4.29 | ms/batch 16.65 | loss  5.34 | ppl   207.80\n",
      "| epoch   1 |  2000/ 2928 batches | lr 4.29 | ms/batch 15.96 | loss  5.35 | ppl   209.67\n",
      "| epoch   1 |  2200/ 2928 batches | lr 4.29 | ms/batch 13.09 | loss  5.22 | ppl   184.36\n",
      "| epoch   1 |  2400/ 2928 batches | lr 4.29 | ms/batch 10.96 | loss  5.33 | ppl   206.36\n",
      "| epoch   1 |  2600/ 2928 batches | lr 4.29 | ms/batch 14.28 | loss  5.34 | ppl   207.96\n",
      "| epoch   1 |  2800/ 2928 batches | lr 4.29 | ms/batch 10.62 | loss  5.27 | ppl   193.75\n",
      "-----------------------------------------------------------------------------------------\n",
      "| end of epoch   1 | time: 43.85s | valid loss  5.55 | valid ppl   256.03\n",
      "-----------------------------------------------------------------------------------------\n",
      "| epoch   2 |   200/ 2928 batches | lr 4.07 | ms/batch 10.05 | loss  5.30 | ppl   200.29\n",
      "| epoch   2 |   400/ 2928 batches | lr 4.07 | ms/batch 10.07 | loss  5.34 | ppl   207.65\n",
      "| epoch   2 |   600/ 2928 batches | lr 4.07 | ms/batch 10.34 | loss  5.14 | ppl   171.40\n",
      "| epoch   2 |   800/ 2928 batches | lr 4.07 | ms/batch 10.09 | loss  5.20 | ppl   181.93\n",
      "| epoch   2 |  1000/ 2928 batches | lr 4.07 | ms/batch 10.03 | loss  5.17 | ppl   175.19\n",
      "| epoch   2 |  1200/ 2928 batches | lr 4.07 | ms/batch 10.54 | loss  5.21 | ppl   183.42\n",
      "| epoch   2 |  1400/ 2928 batches | lr 4.07 | ms/batch 10.52 | loss  5.24 | ppl   187.79\n",
      "| epoch   2 |  1600/ 2928 batches | lr 4.07 | ms/batch 10.15 | loss  5.27 | ppl   193.72\n",
      "| epoch   2 |  1800/ 2928 batches | lr 4.07 | ms/batch 10.25 | loss  5.22 | ppl   184.80\n",
      "| epoch   2 |  2000/ 2928 batches | lr 4.07 | ms/batch 10.28 | loss  5.23 | ppl   187.45\n",
      "| epoch   2 |  2200/ 2928 batches | lr 4.07 | ms/batch 10.87 | loss  5.09 | ppl   163.14\n",
      "| epoch   2 |  2400/ 2928 batches | lr 4.07 | ms/batch 10.29 | loss  5.21 | ppl   182.98\n",
      "| epoch   2 |  2600/ 2928 batches | lr 4.07 | ms/batch 10.46 | loss  5.23 | ppl   186.42\n",
      "| epoch   2 |  2800/ 2928 batches | lr 4.07 | ms/batch 10.52 | loss  5.15 | ppl   172.69\n",
      "-----------------------------------------------------------------------------------------\n",
      "| end of epoch   2 | time: 31.81s | valid loss  5.53 | valid ppl   252.64\n",
      "-----------------------------------------------------------------------------------------\n",
      "| epoch   3 |   200/ 2928 batches | lr 3.87 | ms/batch 10.21 | loss  5.19 | ppl   179.19\n",
      "| epoch   3 |   400/ 2928 batches | lr 3.87 | ms/batch 10.32 | loss  5.22 | ppl   185.79\n",
      "| epoch   3 |   600/ 2928 batches | lr 3.87 | ms/batch 10.22 | loss  5.04 | ppl   153.91\n",
      "| epoch   3 |   800/ 2928 batches | lr 3.87 | ms/batch 10.32 | loss  5.10 | ppl   164.31\n",
      "| epoch   3 |  1000/ 2928 batches | lr 3.87 | ms/batch 10.26 | loss  5.07 | ppl   159.38\n",
      "| epoch   3 |  1200/ 2928 batches | lr 3.87 | ms/batch 10.43 | loss  5.12 | ppl   166.73\n",
      "| epoch   3 |  1400/ 2928 batches | lr 3.87 | ms/batch 10.44 | loss  5.13 | ppl   169.80\n",
      "| epoch   3 |  1600/ 2928 batches | lr 3.87 | ms/batch 10.45 | loss  5.16 | ppl   174.62\n",
      "| epoch   3 |  1800/ 2928 batches | lr 3.87 | ms/batch 10.55 | loss  5.12 | ppl   166.77\n",
      "| epoch   3 |  2000/ 2928 batches | lr 3.87 | ms/batch 10.31 | loss  5.13 | ppl   169.72\n",
      "| epoch   3 |  2200/ 2928 batches | lr 3.87 | ms/batch 10.24 | loss  4.99 | ppl   147.27\n",
      "| epoch   3 |  2400/ 2928 batches | lr 3.87 | ms/batch 10.18 | loss  5.11 | ppl   165.78\n",
      "| epoch   3 |  2600/ 2928 batches | lr 3.87 | ms/batch 10.41 | loss  5.13 | ppl   169.57\n",
      "| epoch   3 |  2800/ 2928 batches | lr 3.87 | ms/batch 10.35 | loss  5.06 | ppl   157.42\n",
      "-----------------------------------------------------------------------------------------\n",
      "| end of epoch   3 | time: 31.79s | valid loss  5.57 | valid ppl   261.99\n",
      "-----------------------------------------------------------------------------------------\n"
     ]
    }
   ],
   "source": [
    "best_val_loss = float('inf')\n",
    "epochs = 3\n",
    "\n",
    "with TemporaryDirectory() as tempdir:\n",
    "    best_model_params_path = os.path.join(tempdir, \"best_model_params.pt\")\n",
    "\n",
    "    for epoch in range(1, epochs + 1):\n",
    "        epoch_start_time = time.time()\n",
    "        train(model)\n",
    "        val_loss = evaluate(model, val_data)\n",
    "        val_ppl = math.exp(val_loss)\n",
    "        elapsed = time.time() - epoch_start_time\n",
    "        print('-' * 89)\n",
    "        print(f'| end of epoch {epoch:3d} | time: {elapsed:5.2f}s | '\n",
    "              f'valid loss {val_loss:5.2f} | valid ppl {val_ppl:8.2f}')\n",
    "        print('-' * 89)\n",
    "\n",
    "        if val_loss < best_val_loss:\n",
    "            best_val_loss = val_loss\n",
    "            torch.save(model.state_dict(), best_model_params_path)\n",
    "\n",
    "        scheduler.step()\n",
    "    model.load_state_dict(torch.load(best_model_params_path)) # load best model states"
   ],
   "metadata": {
    "collapsed": false,
    "ExecuteTime": {
     "end_time": "2023-12-19T05:31:06.808127900Z",
     "start_time": "2023-12-19T05:29:19.181254500Z"
    }
   },
   "id": "6baf037299079da4"
  },
  {
   "cell_type": "code",
   "execution_count": 50,
   "outputs": [
    {
     "name": "stdout",
     "output_type": "stream",
     "text": [
      "=========================================================================================\n",
      "| End of training | test loss  5.44 | test ppl   230.87\n",
      "=========================================================================================\n"
     ]
    }
   ],
   "source": [
    "test_loss = evaluate(model, test_data)\n",
    "test_ppl = math.exp(test_loss)\n",
    "print('=' * 89)\n",
    "print(f'| End of training | test loss {test_loss:5.2f} | '\n",
    "      f'test ppl {test_ppl:8.2f}')\n",
    "print('=' * 89)"
   ],
   "metadata": {
    "collapsed": false,
    "ExecuteTime": {
     "end_time": "2023-12-19T05:50:53.912586500Z",
     "start_time": "2023-12-19T05:50:51.489873300Z"
    }
   },
   "id": "a3739267ee6d59cf"
  },
  {
   "cell_type": "code",
   "execution_count": null,
   "outputs": [],
   "source": [],
   "metadata": {
    "collapsed": false
   },
   "id": "960253c22050c3c5"
  }
 ],
 "metadata": {
  "kernelspec": {
   "display_name": "Python 3 (ipykernel)",
   "language": "python",
   "name": "python3"
  },
  "language_info": {
   "codemirror_mode": {
    "name": "ipython",
    "version": 3
   },
   "file_extension": ".py",
   "mimetype": "text/x-python",
   "name": "python",
   "nbconvert_exporter": "python",
   "pygments_lexer": "ipython3",
   "version": "3.9.18"
  }
 },
 "nbformat": 4,
 "nbformat_minor": 5
}
