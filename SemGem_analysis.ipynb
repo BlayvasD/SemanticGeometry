{
 "cells": [
  {
   "cell_type": "code",
   "execution_count": 195,
   "metadata": {},
   "outputs": [],
   "source": [
    "from TransformerModel import *\n",
    "import torch\n",
    "from torch import nn, Tensor\n",
    "from torch.utils.data import dataset\n",
    "import spacy\n",
    "import numpy as np"
   ]
  },
  {
   "cell_type": "code",
   "execution_count": 196,
   "metadata": {},
   "outputs": [
    {
     "name": "stdout",
     "output_type": "stream",
     "text": [
      "cuda\n"
     ]
    }
   ],
   "source": [
    "device = torch.device('cuda' if torch.cuda.is_available() else 'cpu')\n",
    "print(device)"
   ]
  },
  {
   "cell_type": "code",
   "execution_count": 197,
   "metadata": {},
   "outputs": [],
   "source": [
    "bptt = 2048"
   ]
  },
  {
   "cell_type": "code",
   "execution_count": 198,
   "metadata": {},
   "outputs": [
    {
     "name": "stdout",
     "output_type": "stream",
     "text": [
      "batch size, seq_len:  20 102499\n",
      "batch size, seq_len:  10 21441\n",
      "batch size, seq_len:  10 24185\n"
     ]
    }
   ],
   "source": [
    "from torchtext.datasets import WikiText2\n",
    "from torchtext.data.utils import get_tokenizer\n",
    "from torchtext.vocab import build_vocab_from_iterator\n",
    "\n",
    "train_iter = WikiText2(split='train')\n",
    "tokenizer = get_tokenizer('basic_english') # Will try spacy\n",
    "vocab = build_vocab_from_iterator(map(tokenizer, train_iter), specials=['<unk>'])\n",
    "vocab.set_default_index(vocab['<unk>'])\n",
    "\n",
    "def data_process(raw_text_iter: dataset.IterableDataset) -> Tensor:\n",
    "    \"\"\"Converts raw text into a flat Tensor.\"\"\"\n",
    "    data = [torch.tensor(vocab(tokenizer(item)), dtype=torch.long) for item in raw_text_iter]\n",
    "    return torch.cat(tuple(filter(lambda t: t.numel() > 0, data)))\n",
    "\n",
    "# ``train_iter`` was \"consumed\" by the process of building the vocab,\n",
    "# so we have to create it again\n",
    "train_iter, val_iter, test_iter = WikiText2()\n",
    "train_data = data_process(train_iter)\n",
    "val_data = data_process(val_iter)\n",
    "test_data = data_process(test_iter)\n",
    "\n",
    "batch_size = 20\n",
    "eval_batch_size = 10\n",
    "train_data = batchify(train_data, batch_size)  # shape ``[seq_len, batch_size]``\n",
    "val_data = batchify(val_data, eval_batch_size)\n",
    "test_data = batchify(test_data, eval_batch_size)"
   ]
  },
  {
   "cell_type": "code",
   "execution_count": 199,
   "metadata": {},
   "outputs": [],
   "source": [
    "train_data = data_process(train_iter)\n",
    "train_data = train_data.to(device)\n",
    "\n",
    "val_data = data_process(val_iter)\n",
    "val_data = val_data.to(device)\n",
    "\n",
    "test_data = data_process(test_iter)\n",
    "test_data = test_data.to(device)"
   ]
  },
  {
   "cell_type": "code",
   "execution_count": 235,
   "metadata": {},
   "outputs": [
    {
     "data": {
      "text/plain": [
       "torch.Tensor"
      ]
     },
     "execution_count": 235,
     "metadata": {},
     "output_type": "execute_result"
    }
   ],
   "source": [
    "# help(train_data)\n",
    "type(train_data)"
   ]
  },
  {
   "cell_type": "code",
   "execution_count": 237,
   "metadata": {},
   "outputs": [
    {
     "data": {
      "text/plain": [
       "\"= robert <unk> = robert <unk> is an english film , television and theatre actor . he had a guest @-@ starring role on the television series the bill in 2000 . this was followed by a starring role in the play herons written by simon stephens , which was performed in 2001 at the royal court theatre . he had a guest role in the television series judge john <unk> in 2002 . in 2004 <unk> landed a role as craig in the episode teddy ' s story of the television series the long firm he starred alongside actors\""
      ]
     },
     "execution_count": 237,
     "metadata": {},
     "output_type": "execute_result"
    }
   ],
   "source": [
    "def token_to_text(data):\n",
    "    words = [vocab.get_itos()[token] for token in data]\n",
    "    return ' '.join(words)\n",
    "\n",
    "token_to_text(test_data[0:100])"
   ]
  },
  {
   "cell_type": "code",
   "execution_count": 201,
   "metadata": {},
   "outputs": [],
   "source": [
    "ntokens = len(vocab)  # size of vocabulary\n",
    "emsize = 50  # embedding dimension (default 200)\n",
    "d_hid = 200  # dimension of the feedforward network model in ``nn.TransformerEncoder``\n",
    "nlayers = 2  # number of ``nn.TransformerEncoderLayer`` in ``nn.TransformerEncoder``\n",
    "nhead = 2  # number of heads in ``nn.MultiheadAttention``\n",
    "dropout = 0.2  # dropout probability"
   ]
  },
  {
   "cell_type": "code",
   "execution_count": 202,
   "metadata": {},
   "outputs": [],
   "source": [
    "model_file_name = './data/model_epoch_50.pth'"
   ]
  },
  {
   "cell_type": "code",
   "execution_count": 203,
   "metadata": {},
   "outputs": [
    {
     "name": "stderr",
     "output_type": "stream",
     "text": [
      "c:\\Users\\ilya\\anaconda3\\envs\\p39n\\lib\\site-packages\\torch\\nn\\modules\\transformer.py:282: UserWarning: enable_nested_tensor is True, but self.use_nested_tensor is False because encoder_layer.self_attn.batch_first was not True(use batch_first for better inference performance)\n",
      "  warnings.warn(f\"enable_nested_tensor is True, but self.use_nested_tensor is False because {why_not_sparsity_fast_path}\")\n"
     ]
    },
    {
     "data": {
      "text/plain": [
       "<All keys matched successfully>"
      ]
     },
     "execution_count": 203,
     "metadata": {},
     "output_type": "execute_result"
    }
   ],
   "source": [
    "model = TransformerModel(ntokens, emsize, nhead, d_hid, nlayers, dropout).to(device)\n",
    "model.load_state_dict(torch.load(model_file_name))"
   ]
  },
  {
   "cell_type": "code",
   "execution_count": 204,
   "metadata": {},
   "outputs": [
    {
     "data": {
      "text/plain": [
       "7.813818388808602"
      ]
     },
     "execution_count": 204,
     "metadata": {},
     "output_type": "execute_result"
    }
   ],
   "source": [
    "evaluate(model, val_data)"
   ]
  },
  {
   "cell_type": "code",
   "execution_count": 205,
   "metadata": {},
   "outputs": [],
   "source": [
    "test_iter_list = list(test_iter)"
   ]
  },
  {
   "cell_type": "code",
   "execution_count": 206,
   "metadata": {},
   "outputs": [
    {
     "name": "stdout",
     "output_type": "stream",
     "text": [
      "tensor([  9, 632,   0,  ...,  41,   4,   1], device='cuda:0')\n",
      "torch.Size([2048])\n",
      "tensor([ 632,    0,    9,  ...,    4,    1, 2889], device='cuda:0')\n",
      "torch.Size([2048])\n"
     ]
    }
   ],
   "source": [
    "data, targets = get_batch(test_data, 0)\n",
    "print(data)\n",
    "print(data.shape)\n",
    "print(targets)\n",
    "print(targets.shape)"
   ]
  },
  {
   "cell_type": "code",
   "execution_count": 207,
   "metadata": {},
   "outputs": [
    {
     "data": {
      "text/plain": [
       "\"= robert <unk> = robert <unk> is an english film , television and theatre actor . he had a guest @-@ starring role on the television series the bill in 2000 . this was followed by a starring role in the play herons written by simon stephens , which was performed in 2001 at the royal court theatre . he had a guest role in the television series judge john <unk> in 2002 . in 2004 <unk> landed a role as craig in the episode teddy ' s story of the television series the long firm he starred alongside actors mark strong and derek jacobi . he was cast in the 2005 theatre productions of the philip ridley play mercury fur , which was performed at the drum theatre in plymouth and the <unk> <unk> factory in london . he was directed by john <unk> and starred alongside ben <unk> , shane <unk> , harry kent , fraser <unk> , sophie stanton and dominic hall . in 2006 , <unk> starred alongside <unk> in the play <unk> written by mark <unk> . he appeared on a 2006 episode of the television series , doctors , followed by a role in the 2007 theatre production of how to curse directed by <unk> <unk> . how to curse was performed at bush theatre in the london borough of <unk> and fulham . <unk> starred in two films in 2008 , <unk> <unk> by filmmaker paris <unk> , and <unk> punch directed by <unk> blackburn . in may 2008 , <unk> made a guest appearance on a two @-@ part episode arc of the television series waking the dead , followed by an appearance on the television series <unk> in november 2008 . he had a recurring role in ten episodes of the television series <unk> in 2010 , as <unk> fletcher . <unk> starred in the 2011 film <unk> directed by paris <unk> . = = career = = = = = 2000 – 2005 = = = in 2000 <unk> had a guest @-@ starring role on the television series the bill he portrayed scott parry in the episode , in safe hands . <unk> starred as scott in the play herons written by simon stephens , which was performed in 2001 at the royal court theatre . a review of <unk> ' s performance in the independent on sunday described him as horribly menacing in the role , and he received critical reviews in the herald , and evening standard . he appeared in the television series judge john <unk> in 2002 as <unk> <unk> in the episode political <unk> , and had a role as a different character toby steele on the bill . he had a recurring role in 2003 on two episodes of the bill , as character connor price . in 2004 <unk> landed a role as craig in the episode teddy ' s story of the television series the long firm he starred alongside actors mark strong and derek jacobi . <unk> starred as darren , in the 2005 theatre productions of the philip ridley play mercury fur . it was performed at the drum theatre in plymouth , and the <unk> <unk> factory in london . he was directed by john <unk> and starred alongside ben <unk> , shane <unk> , harry kent , fraser <unk> , sophie stanton and dominic hall . <unk> received a favorable review in the daily telegraph the acting is <unk> intense , with <unk> performances from ben <unk> ( now <unk> from his performance as trevor <unk> ' s hamlet ) , robert <unk> , shane <unk> and fraser <unk> . the guardian noted , ben <unk> and robert <unk> offer <unk> amid the <unk> . = = = 2006 – present = = = in 2006 <unk> starred in the play <unk> written by mark <unk> . the play was part of a series which featured different <unk> , titled burn / <unk> / <unk> . in a 2006 interview , fellow actor ben <unk> identified <unk> as one of his favorite co @-@ stars i loved working with a guy called robert <unk> , who was in the triple bill of burn , <unk> and <unk> at the national . he played my brother in mercury fur . he portrayed jason tyler on the 2006 episode of the television series , doctors , titled something i <unk> . <unk> starred as william in the 2007 production of how to curse directed by <unk> <unk> . how to curse was performed at bush theatre in the london borough of <unk> and fulham . in a review of the production for the daily telegraph , theatre critic charles spencer noted , robert <unk> brings a touching vulnerability to the stage as william . <unk> starred in two films in 2008 , <unk> <unk> by filmmaker paris <unk> , and <unk> punch directed by <unk> blackburn . <unk> portrayed a character named sean in <unk> punch , who <unk> along with character josh as the quiet brother . . . who hits it off with <unk> . <unk> guest starred on a two @-@ part episode arc <unk> in may 2008 of the television series waking the dead as character jimmy <unk> . he appeared on the television series <unk> as neil in november 2008 . he had a recurring role in ten episodes of the television series <unk> in 2010 , as <unk> fletcher . he portrayed an emergency physician applying for a medical <unk> . he commented on the inherent difficulties in portraying a physician on television playing a doctor is a strange experience . <unk> you know what you ' re talking about when you don ' t is very bizarre but there are advisers on set who are fantastic at taking you through procedures and giving you the confidence to stand there and look like you know what you ' re doing . <unk> starred in the 2011 film <unk> directed by paris <unk> . = = filmography = = = = = film = = = = = = television = = = = = = theatre = = = = du fu = du fu ( wade – giles tu fu chinese <unk> <unk> – 770 ) was a prominent chinese poet of the tang dynasty . along with li <unk> ( li po ) , he is frequently called the greatest of the chinese poets . his greatest ambition was to serve his country as a successful civil servant , but he proved unable to make the necessary accommodations . his life , like the whole country , was devastated by the an <unk> rebellion of <unk> , and his last 15 years were a time of almost constant unrest . although initially he was little @-@ known to other writers , his works came to be hugely influential in both chinese and japanese literary culture . of his poetic writing , nearly fifteen hundred poems have been preserved over the ages . he has been called the poet @-@ historian and the poet @-@ sage by chinese critics , while the range of his work has allowed him to be introduced to western readers as the chinese virgil , horace , <unk> , shakespeare , milton , burns , <unk> , <unk> , hugo or <unk> . = = life = = traditional chinese literary criticism emphasized the life of the author when interpreting a work , a practice which burton watson attributes to the close links that traditional chinese thought posits between art and morality . since many of du fu ' s poems feature morality and history , this practice is particularly important . another reason , identified by the chinese historian william <unk> , is that chinese poems are typically <unk> , <unk> context that might be relevant , but which an informed contemporary could be assumed to know . for modern western readers , the less accurately we know the time , the place and the circumstances in the background , the more liable we are to imagine it incorrectly , and the result will be that we either <unk> the poem or fail to understand it altogether . stephen owen suggests a third factor particular to du fu , arguing that the variety of the poet ' s work required consideration of his whole life , rather than the <unk> <unk> used for more limited poets . = = = early years = = = most of what is known of du fu ' s life comes from his poems . his paternal grandfather was du <unk> , a noted politician and poet during the reign of empress wu . du fu was born in <unk> the exact birthplace is unknown , except that it was near luoyang , henan province ( gong county is a favourite candidate ) . in later life , he considered himself to belong to the capital city of chang ' an , ancestral hometown of the du family . du fu ' s mother died shortly after he was born , and he was partially raised by his aunt . he had an elder brother , who died young . he also had three half brothers and one half sister , to whom he frequently refers in his poems , although he never mentions his stepmother . the son of a minor scholar @-@ official , his youth was spent on the standard education of a future civil servant study and <unk> of the confucian classics of philosophy , history and poetry . he later claimed to have produced <unk> poems by his early teens , but these have been lost . in the early <unk> , he travelled in the <unk> / zhejiang area his earliest surviving poem , describing a poetry contest , is thought to date from the end of this period , around 735 . in that year , he took the civil service exam , likely in chang ' an . he failed , to his surprise and that of centuries of later critics . <unk> concludes that he probably failed because his prose style at the time was too dense and obscure , while chou suggests his failure to <unk> connections in the capital may have been to blame . after this failure , he went back to traveling , this time around shandong and hebei . his father died around 740 . du fu would have been allowed to enter the civil service because of his father ' s rank , but he is thought to have given up the privilege in favour of one of his half brothers . he spent the next four years living in the luoyang area , fulfilling his duties in domestic affairs . in the autumn of <unk> , he met li <unk> ( li po ) for the first time , and the two poets formed a friendship . david young describes this as the most significant formative element in du fu ' s artistic development because it gave him a living example of the reclusive poet @-@ scholar life to which he was attracted after his failure in the civil service exam . the relationship was somewhat one @-@ sided , however . du fu was by some years the younger , while li <unk> was already a poetic star . we have twelve poems to or about li <unk> from the younger poet , but only one in the other direction . they met again only once , in <unk> . in 746 , he moved to the capital in an attempt to resurrect his official career . he took the civil service exam a second time during the following year , but all the candidates were failed by the prime minister ( apparently in order to prevent the emergence of possible rivals ) . he never again attempted the examinations , instead <unk> the emperor directly in <unk> , 754 and probably again in <unk> . he married around <unk> , and by <unk> the couple had had five children — three sons and two daughters — but one of the\""
      ]
     },
     "execution_count": 207,
     "metadata": {},
     "output_type": "execute_result"
    }
   ],
   "source": [
    "token_to_text(data)"
   ]
  },
  {
   "cell_type": "code",
   "execution_count": 208,
   "metadata": {},
   "outputs": [
    {
     "data": {
      "text/plain": [
       "(2048, 28782)"
      ]
     },
     "execution_count": 208,
     "metadata": {},
     "output_type": "execute_result"
    }
   ],
   "source": [
    "outputs = model(data).cpu().detach().numpy()\n",
    "outputs.shape"
   ]
  },
  {
   "cell_type": "code",
   "execution_count": 209,
   "metadata": {},
   "outputs": [
    {
     "data": {
      "text/plain": [
       "'the the the the the the the the the the the the the the the the the the the the the the the the the the the the the the the the the the the the the the the the the the the the the the the the the the the the the the the the the the the the the the the the the the the the the the the the the the the the the the the the the the the the the the the the the the the the the the the the the the the the the the the the the the the the the the the the the the the the the the the the the the the the the the the the the the the the the the the the the the the the the the the the the the the the the the the the the the the the the the the the the the the the the the the the the the the the the the the the the the the the the the the the the the the the the the the the the the the the the the the the the the the the the the the the the the the the the the the the the the the the the the the the the the the the the the the the the the the the the the the the the the the the the the the the the the the the the the the the the the the the the the the the the the the the the the the the the the the the the the the the the the the the the the the the the the the the the the the the the the the the the the the the the the the the the the the the the the the the the the the the the the the the the the the the the the the the the the the the the the the the the the the the the the the the the the the the the the the the the the the the the the the the the the the the the the the the the the the the the the the the the the the the the the the the the the the the the the the the the the the the the the the the the the the the the the the the the the the the the the the the the the the the the the the the the the the the the the the the the the the the the the the the the the the the the the the the the the the the the the the the the the the the the the the the the the the the the the the the the the the the the the the the the the the the the the the the the the the the the the the the the the the the the the the the the the the the the the the the the the the the the the the the the the the the the the the the the the the the the the the the the the the the the the the the the the the the the the the the the the the the the the the the the the the the the the the the the the the the the the the the the the the the the the the the the the the the the the the the the the the the the the the the the the the the the the the the the the the the the the the the the the the the the the the the the the the the the the the the the the the the the the the the the the the the the the the the the the the the the the the the the the the the the the the the the the the the the the the the the the the the the the the the the the the the the the the the the the the the the the the the the the the the the the the the the the the the the the the the the the the the the the the the the the the the the the the the the the the the the the the the the the the the the the the the the the the the the the the the the the the the the the the the the the the the the the the the the the the the the the the the the the the the the the the the the the the the the the the the the the the the the the the the the the the the the the the the the the the the the the the the the the the the the the the the the the the the the the the the the the the the the the the the the the the the the the the the the the the the the the the the the the the the the the the the the the the the the the the the the the the the the the the the the the the the the the the the the the the the the the the the the the the the the the the the the the the the the the the the the the the the the the the the the the the the the the the the the the the the the the the the the the the the the the the the the the the the the the the the the the the the the the the the the the the the the the the the the the the the the the the the the the the the the the the the the the the the the the the the the the the the the the the the the the the the the the the the the the the the the the the the the the the the the the the the the the the the the the the the the the the the the the the the the the the the the the the the the the the the the the the the the the the the the the the the the the the the the the the the the the the the the the the the the the the the the the the the the the the the the the the the the the the the the the the the the the the the the the the the the the the the the the the the the the the the the the the the the the the the the the the the the the the the the the the the the the the the the the the the the the the the the the the the the the the the the the the the the the the the the the the the the the the the the the the the the the the the the the the the the the the the the the the the the the the the the the the the the the the the the the the the the the the the the the the the the the the the the the the the the the the the the the the the the the the the the the the the the the the the the the the the the the the the the the the the the the the the the the the the the the the the the the the the the the the the the the the the the the the the the the the the the the the the the the the the the the the the the the the the the the the the the the the the the the the the the the the the the the the the the the the the the the the the the the the the the the the the the the the the the the the the the the the the the the the the the the the the the the the the the the the the the the the the the the the the the the the the the the the the the the the the the the the the the the the the the the the the the the the the the the the the the the the the the the the the the the the the the the the the the the the the the the the the the the the the the the the the the the the the the the the the the the the the the the the the the the the the the the the the the the the the the the the the the the the the the the the the the the the the the the the the the the the the the the the the the the the the the the the the the the the the the the the the the the the the the the the the the the the the the the the the the the the the the the the the the the the the the the the the the the the the the the the the the the the the the the the the the the the the the the the the the the the the the the the the the the the the the the the the the the the the the the the the the the the the the the the the the the the the the the the the the the the the the the the the the the the the the the the the the the the the the the the the the the the the the the the the the the the the the the the the the the the the the the the the the the the the the the the the the the the the the the the the the the the the the the the the the the the the the the the the the the the the the the the the the the the the the the the the the the the the the the the the the the the the the the the the the the the the the the the the the the the the the the the the the the the the the the the the the the the the the the the the the the the the the the the the the the the the the the the the the the the the the the the the the the the the the the the the the the the the the the the the the the the the the the the the the the the the the the the the the the the the the the the the the the the the the the the the the the the the the the the the the the the the the the the the the the the the the the the the the the the the the the the the the the the the the the the the the the the the the the the the the the the the the the the the the the the the the the the the the the the the the the the the the the the the the the the the the the the the the the the the the the the the the the the the the the the the the the the the the the the the the the the the the the the the the the the the the the the the the the the the the the the the the the the the the the the the the the the the the the the the the the the the the the the the the the the the the the the the the the the the the the the the the the the the the the the the the the the the the the the the the the the the the the the the the the the the the the the the the the the the the the the the'"
      ]
     },
     "execution_count": 209,
     "metadata": {},
     "output_type": "execute_result"
    }
   ],
   "source": [
    "outputs_tokens = np.argmax(outputs, axis=1)\n",
    "token_to_text(outputs_tokens)"
   ]
  },
  {
   "cell_type": "markdown",
   "metadata": {},
   "source": [
    "# Semantic Geometry"
   ]
  },
  {
   "cell_type": "code",
   "execution_count": 215,
   "metadata": {},
   "outputs": [],
   "source": [
    "my_embedding = model.embedding"
   ]
  },
  {
   "cell_type": "code",
   "execution_count": 238,
   "metadata": {},
   "outputs": [],
   "source": [
    "from transformers import GPT2Tokenizer, GPT2LMHeadModel\n",
    "\n",
    "tokenizer_gpt = GPT2Tokenizer.from_pretrained('gpt2')\n",
    "model_gpt = GPT2LMHeadModel.from_pretrained('gpt2')"
   ]
  },
  {
   "cell_type": "code",
   "execution_count": 179,
   "metadata": {},
   "outputs": [
    {
     "data": {
      "text/plain": [
       "['_get_resized_embeddings',\n",
       " '_resize_token_embeddings',\n",
       " 'get_input_embeddings',\n",
       " 'get_output_embeddings',\n",
       " 'get_position_embeddings',\n",
       " 'resize_position_embeddings',\n",
       " 'resize_token_embeddings',\n",
       " 'set_input_embeddings',\n",
       " 'set_output_embeddings']"
      ]
     },
     "execution_count": 179,
     "metadata": {},
     "output_type": "execute_result"
    }
   ],
   "source": [
    "[i for i in dir(model_gpt) if 'embed' in i]"
   ]
  },
  {
   "cell_type": "code",
   "execution_count": 188,
   "metadata": {},
   "outputs": [
    {
     "data": {
      "text/plain": [
       "Linear(in_features=768, out_features=50257, bias=False)"
      ]
     },
     "execution_count": 188,
     "metadata": {},
     "output_type": "execute_result"
    }
   ],
   "source": [
    "model_gpt.get_output_embeddings()"
   ]
  },
  {
   "cell_type": "code",
   "execution_count": 181,
   "metadata": {},
   "outputs": [
    {
     "data": {
      "text/plain": [
       "<bound method GPT2LMHeadModel.get_output_embeddings of GPT2LMHeadModel(\n",
       "  (transformer): GPT2Model(\n",
       "    (wte): Embedding(50257, 768)\n",
       "    (wpe): Embedding(1024, 768)\n",
       "    (drop): Dropout(p=0.1, inplace=False)\n",
       "    (h): ModuleList(\n",
       "      (0-11): 12 x GPT2Block(\n",
       "        (ln_1): LayerNorm((768,), eps=1e-05, elementwise_affine=True)\n",
       "        (attn): GPT2Attention(\n",
       "          (c_attn): Conv1D()\n",
       "          (c_proj): Conv1D()\n",
       "          (attn_dropout): Dropout(p=0.1, inplace=False)\n",
       "          (resid_dropout): Dropout(p=0.1, inplace=False)\n",
       "        )\n",
       "        (ln_2): LayerNorm((768,), eps=1e-05, elementwise_affine=True)\n",
       "        (mlp): GPT2MLP(\n",
       "          (c_fc): Conv1D()\n",
       "          (c_proj): Conv1D()\n",
       "          (act): NewGELUActivation()\n",
       "          (dropout): Dropout(p=0.1, inplace=False)\n",
       "        )\n",
       "      )\n",
       "    )\n",
       "    (ln_f): LayerNorm((768,), eps=1e-05, elementwise_affine=True)\n",
       "  )\n",
       "  (lm_head): Linear(in_features=768, out_features=50257, bias=False)\n",
       ")>"
      ]
     },
     "execution_count": 181,
     "metadata": {},
     "output_type": "execute_result"
    }
   ],
   "source": [
    "model_gpt.get_output_embeddings"
   ]
  },
  {
   "cell_type": "code",
   "execution_count": 240,
   "metadata": {},
   "outputs": [
    {
     "name": "stdout",
     "output_type": "stream",
     "text": [
      "tensor([423, 132,   2, 416,  34, 178, 857], device='cuda:0')\n"
     ]
    },
    {
     "data": {
      "text/plain": [
       "'good day , how are you ?'"
      ]
     },
     "execution_count": 240,
     "metadata": {},
     "output_type": "execute_result"
    }
   ],
   "source": [
    "word_token = data_process(['good day, how are you?']).to(device)\n",
    "print(word_token)\n",
    "token_to_text(word_token)"
   ]
  },
  {
   "cell_type": "code",
   "execution_count": 217,
   "metadata": {},
   "outputs": [
    {
     "name": "stdout",
     "output_type": "stream",
     "text": [
      "tensor([1099,  287,  240,  868], device='cuda:0')\n"
     ]
    },
    {
     "data": {
      "text/plain": [
       "'queen king man woman'"
      ]
     },
     "execution_count": 217,
     "metadata": {},
     "output_type": "execute_result"
    }
   ],
   "source": [
    "word_token = data_process(['queen king man woman']).to(device)\n",
    "print(word_token)\n",
    "token_to_text(word_token)"
   ]
  },
  {
   "cell_type": "code",
   "execution_count": 218,
   "metadata": {},
   "outputs": [
    {
     "name": "stdout",
     "output_type": "stream",
     "text": [
      "torch.Size([28782, 50])\n"
     ]
    }
   ],
   "source": [
    "vocab_indices = torch.arange(len(vocab)).to(device)\n",
    "vocab_embedding = my_embedding(vocab_indices)\n",
    "print(vocab_embedding.shape)"
   ]
  },
  {
   "cell_type": "code",
   "execution_count": null,
   "metadata": {},
   "outputs": [],
   "source": []
  },
  {
   "cell_type": "code",
   "execution_count": 310,
   "metadata": {},
   "outputs": [
    {
     "data": {
      "text/plain": [
       "(28782, 10)"
      ]
     },
     "execution_count": 310,
     "metadata": {},
     "output_type": "execute_result"
    }
   ],
   "source": [
    "from sklearn.decomposition._pca import PCA\n",
    "\n",
    "vocab_embedding_cpu = vocab_embedding.cpu().detach().numpy()\n",
    "vocab_pca = PCA(n_components=10).fit(vocab_embedding_cpu)\n",
    "vocab_latent = vocab_pca.transform(vocab_embedding_cpu)\n",
    "vocab_latent.shape"
   ]
  },
  {
   "cell_type": "code",
   "execution_count": 319,
   "metadata": {},
   "outputs": [],
   "source": [
    "w = 'man'\n",
    "\n",
    "word_token = data_process([w]).to(device)\n",
    "word_vector = my_embedding(word_token)[0].cpu().detach().numpy().reshape(1, 50)\n",
    "word_vector_latent = vocab_pca.transform(word_vector)\n",
    "word_vectors_latent.append(word_vector_latent)"
   ]
  },
  {
   "cell_type": "code",
   "execution_count": 362,
   "metadata": {},
   "outputs": [],
   "source": [
    "# words = ['man', 'woman', 'king', 'queen']\n",
    "words = vocab.get_itos()[100:1000:100]\n",
    "word_vectors_latent = []\n",
    "\n",
    "for w in words:\n",
    "    word_token = data_process([w]).to(device)\n",
    "    word_vector = my_embedding(word_token)[0].cpu().detach().numpy().reshape(1, 50)\n",
    "    word_vector_latent = vocab_pca.transform(word_vector).reshape(10)\n",
    "    word_vectors_latent.append(word_vector_latent)"
   ]
  },
  {
   "cell_type": "code",
   "execution_count": 366,
   "metadata": {},
   "outputs": [
    {
     "data": {
      "text/plain": [
       "(-2.7667978286743162, 0.5137749791145325)"
      ]
     },
     "execution_count": 366,
     "metadata": {},
     "output_type": "execute_result"
    },
    {
     "data": {
      "image/png": "[encoded data removed]",
      "text/plain": [
       "<Figure size 640x480 with 1 Axes>"
      ]
     },
     "metadata": {},
     "output_type": "display_data"
    }
   ],
   "source": [
    "import matplotlib.pyplot as plt\n",
    "plt.scatter(vocab_latent[:,0], vocab_latent[:,1], s=0.01)\n",
    "for w, v in zip(words, word_vectors_latent):\n",
    "    plt.plot(v[0], v[1], 'ro')\n",
    "    plt.annotate(w, (v[0], v[1]))\n",
    "\n",
    "xmin = min([v[0] for v in word_vectors_latent])\n",
    "xmax = max([v[0] for v in word_vectors_latent])\n",
    "ymin = min([v[1] for v in word_vectors_latent])\n",
    "ymax = max([v[1] for v in word_vectors_latent])\n",
    "eps = 0.05\n",
    "\n",
    "plt.xlim(xmin-eps, xmax+eps)\n",
    "plt.ylim(ymin-eps, ymax+eps)"
   ]
  },
  {
   "cell_type": "code",
   "execution_count": null,
   "metadata": {},
   "outputs": [],
   "source": []
  },
  {
   "cell_type": "code",
   "execution_count": null,
   "metadata": {},
   "outputs": [],
   "source": []
  },
  {
   "cell_type": "code",
   "execution_count": null,
   "metadata": {},
   "outputs": [],
   "source": []
  },
  {
   "cell_type": "code",
   "execution_count": 219,
   "metadata": {},
   "outputs": [],
   "source": [
    "def get_distances(vector, vocab_embedding=vocab_embedding):\n",
    "    expanded_vector = vector.unsqueeze(0).expand_as(vocab_embedding)\n",
    "    euclidean_distances = torch.sqrt(torch.sum((expanded_vector - vocab_embedding) ** 2, dim=1))\n",
    "    return euclidean_distances.tolist()\n",
    "\n",
    "def top_n_closest(distances):\n",
    "    distances_tensor = torch.tensor(distances)\n",
    "    smallest_distances, indices = torch.topk(distances_tensor, 10, largest=False)\n",
    "    return smallest_distances.tolist(), indices.tolist()\n",
    "\n",
    "def print_closest(vector, n=10, vocab_embedding=vocab_embedding):\n",
    "    distances = get_distances(vector)\n",
    "    smallest_distances, smallest_indices = top_n_closest(distances)\n",
    "    words = [vocab.get_itos()[token] for token in smallest_indices]\n",
    "    for i in range(n):\n",
    "        print(f\"{words[i]}: {smallest_distances[i]:.3f}\")"
   ]
  },
  {
   "cell_type": "code",
   "execution_count": 220,
   "metadata": {},
   "outputs": [
    {
     "name": "stdout",
     "output_type": "stream",
     "text": [
      "man: 0.000\n",
      "peoples: 2.740\n",
      "1972: 2.897\n",
      "pity: 3.012\n",
      "ranked: 3.062\n",
      "18th: 3.141\n",
      "little: 3.200\n",
      "chamber: 3.217\n",
      "indian: 3.247\n",
      "lover: 3.261\n"
     ]
    }
   ],
   "source": [
    "word_token = data_process(['man']).to(device)\n",
    "word_vector = model.embedding(word_token)[0]\n",
    "print_closest(word_vector)"
   ]
  },
  {
   "cell_type": "code",
   "execution_count": 221,
   "metadata": {},
   "outputs": [
    {
     "name": "stdout",
     "output_type": "stream",
     "text": [
      "14: 2.380\n",
      "t: 2.566\n",
      "interest: 2.581\n",
      "funds: 2.615\n",
      "good: 2.636\n",
      "scotland: 2.648\n",
      "rival: 2.651\n",
      "literary: 2.666\n",
      "1867: 2.728\n",
      "chick: 2.741\n"
     ]
    }
   ],
   "source": [
    "king_token = data_process(['king']).to(device)\n",
    "king_vector = my_embedding(king_token)[0]\n",
    "man_token = data_process(['man']).to(device)\n",
    "man_vector = my_embedding(man_token)[0]\n",
    "woman_token = data_process(['woman']).to(device)\n",
    "woman_vector = my_embedding(woman_token)[0]\n",
    "\n",
    "\n",
    "print_closest(king_vector - man_vector + woman_vector)"
   ]
  },
  {
   "cell_type": "code",
   "execution_count": null,
   "metadata": {},
   "outputs": [],
   "source": []
  },
  {
   "cell_type": "code",
   "execution_count": null,
   "metadata": {},
   "outputs": [],
   "source": []
  }
 ],
 "metadata": {
  "kernelspec": {
   "display_name": "p39",
   "language": "python",
   "name": "python3"
  },
  "language_info": {
   "codemirror_mode": {
    "name": "ipython",
    "version": 3
   },
   "file_extension": ".py",
   "mimetype": "text/x-python",
   "name": "python",
   "nbconvert_exporter": "python",
   "pygments_lexer": "ipython3",
   "version": "3.9.18"
  }
 },
 "nbformat": 4,
 "nbformat_minor": 2
}
