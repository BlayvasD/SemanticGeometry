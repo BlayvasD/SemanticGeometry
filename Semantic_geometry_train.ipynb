{
 "cells": [
  {
   "cell_type": "code",
   "execution_count": 73,
   "id": "62016cab48535386",
   "metadata": {
    "ExecuteTime": {
     "end_time": "2023-12-22T04:58:17.392991Z",
     "start_time": "2023-12-22T04:58:01.225926200Z"
    },
    "collapsed": false
   },
   "outputs": [],
   "source": [
    "import math\n",
    "import os\n",
    "from tempfile import TemporaryDirectory\n",
    "from typing import Tuple\n",
    "x = 10\n",
    "import torch\n",
    "from torch import nn, Tensor\n",
    "from torch.nn import TransformerEncoder, TransformerEncoderLayer\n",
    "from torch.utils.data import dataset"
   ]
  },
  {
   "cell_type": "code",
   "execution_count": 74,
   "id": "2efb6c78281ceaef",
   "metadata": {
    "ExecuteTime": {
     "end_time": "2023-12-22T04:58:18.851162500Z",
     "start_time": "2023-12-22T04:58:17.396048200Z"
    },
    "collapsed": false
   },
   "outputs": [
    {
     "name": "stdout",
     "output_type": "stream",
     "text": [
      "cuda\n"
     ]
    }
   ],
   "source": [
    "device = torch.device('cuda' if torch.cuda.is_available() else 'cpu')\n",
    "# device = torch.device('cpu')\n",
    "print(device)"
   ]
  },
  {
   "cell_type": "code",
   "execution_count": 75,
   "id": "41767dc5a46f289d",
   "metadata": {
    "ExecuteTime": {
     "end_time": "2023-12-22T04:58:18.859209900Z",
     "start_time": "2023-12-22T04:58:18.846090500Z"
    },
    "collapsed": false
   },
   "outputs": [
    {
     "name": "stdout",
     "output_type": "stream",
     "text": [
      "Cuda is available\n"
     ]
    }
   ],
   "source": [
    "if torch.cuda.is_available():\n",
    "    print(\"Cuda is available\")\n",
    "else:\n",
    "    if 'cpu' in torch.__version__:\n",
    "        print(\"NOT using cuda, torch version is +cpu instead of +cu\")\n",
    "    else:\n",
    "        print(\"NOT using cuda, assert torch.cuda.is_available() failed\")"
   ]
  },
  {
   "cell_type": "code",
   "execution_count": 76,
   "id": "1ae3e77c0437e9bd",
   "metadata": {
    "ExecuteTime": {
     "end_time": "2023-12-22T04:58:18.987461700Z",
     "start_time": "2023-12-22T04:58:18.882721500Z"
    },
    "collapsed": false
   },
   "outputs": [],
   "source": [
    "class TransformerModel(nn.Module):\n",
    "\n",
    "    def __init__(self, ntoken: int, d_model: int, nhead: int, d_hid: int,\n",
    "                 nlayers: int, dropout: float = 0.5):\n",
    "        super().__init__()\n",
    "        self.model_type = 'Transformer'\n",
    "        self.pos_encoder = PositionalEncoding(d_model, dropout)\n",
    "        encoder_layers = TransformerEncoderLayer(d_model, nhead, d_hid, dropout)\n",
    "        self.transformer_encoder = TransformerEncoder(encoder_layers, nlayers)\n",
    "        self.embedding = nn.Embedding(ntoken, d_model)\n",
    "        self.d_model = d_model\n",
    "        self.linear = nn.Linear(d_model, ntoken)\n",
    "\n",
    "        self.init_weights()\n",
    "\n",
    "    def init_weights(self) -> None:\n",
    "        initrange = 0.1\n",
    "        self.embedding.weight.data.uniform_(-initrange, initrange)\n",
    "        self.linear.bias.data.zero_()\n",
    "        self.linear.weight.data.uniform_(-initrange, initrange)\n",
    "\n",
    "    def forward(self, src: Tensor, src_mask: Tensor = None, verbose = False) -> Tensor:\n",
    "        \"\"\"\n",
    "        Arguments:\n",
    "            src: Tensor, shape ``[seq_len, batch_size]``\n",
    "            src_mask: Tensor, shape ``[seq_len, seq_len]``\n",
    "\n",
    "        Returns:\n",
    "            output Tensor of shape ``[seq_len, batch_size, ntoken]``\n",
    "        \"\"\"\n",
    "        if verbose:\n",
    "            print(\"Forward pass now ~~~~~~~~~~~~~~~~\")\n",
    "            print(\"Shape of input:\", src.shape)\n",
    "            print(src)\n",
    "        src = self.embedding(src) * math.sqrt(self.d_model)\n",
    "        if verbose:\n",
    "            print(\"Shape after embedding:\", src.shape)\n",
    "            print(src)\n",
    "        src = self.pos_encoder(src)\n",
    "        if verbose:\n",
    "            print(\"Shape after positional encoding:\", src.shape)\n",
    "            print(src)\n",
    "        if src_mask is None:\n",
    "            \"\"\"Generate a square causal mask for the sequence. The masked positions are filled with float('-inf').\n",
    "            Unmasked positions are filled with float(0.0).\n",
    "            \"\"\"\n",
    "            src_mask = nn.Transformer.generate_square_subsequent_mask(len(src)).to(device)\n",
    "        if verbose:\n",
    "            print(\"Shape of mask:\", src_mask.shape)\n",
    "            print(src_mask)\n",
    "        output = self.transformer_encoder(src, src_mask)\n",
    "        if verbose:\n",
    "            print(\"Shape after transformer encoding:\", output.shape)\n",
    "            print(output)\n",
    "        output = self.linear(output)\n",
    "        if verbose:\n",
    "            print(\"Shape after linear:\", output.shape)\n",
    "            print(output)\n",
    "        return output\n",
    "    \n",
    "    def __call__(self, src: Tensor, src_mask: Tensor = None, verbose = False) -> Tensor:\n",
    "        return self.forward(src, src_mask = None, verbose = verbose)\n",
    "    \n",
    "    "
   ]
  },
  {
   "cell_type": "code",
   "execution_count": 77,
   "id": "7f6a54cef4bb8cde",
   "metadata": {
    "ExecuteTime": {
     "end_time": "2023-12-22T04:58:19.014460500Z",
     "start_time": "2023-12-22T04:58:18.912720200Z"
    },
    "collapsed": false
   },
   "outputs": [],
   "source": [
    "class PositionalEncoding(nn.Module):\n",
    "\n",
    "    def __init__(self, d_model: int, dropout: float = 0.1, max_len: int = 5000):\n",
    "        super().__init__()\n",
    "        self.dropout = nn.Dropout(p=dropout)\n",
    "\n",
    "        position = torch.arange(max_len).unsqueeze(1)\n",
    "        div_term = torch.exp(torch.arange(0, d_model, 2) * (-math.log(10000.0) / d_model))\n",
    "        pe = torch.zeros(max_len, 1, d_model)\n",
    "        pe[:, 0, 0::2] = torch.sin(position * div_term)\n",
    "        pe[:, 0, 1::2] = torch.cos(position * div_term)\n",
    "        self.register_buffer('pe', pe)\n",
    "\n",
    "    def forward(self, x: Tensor) -> Tensor:\n",
    "        \"\"\"\n",
    "        Arguments:\n",
    "            x: Tensor, shape ``[seq_len, batch_size, embedding_dim]``\n",
    "        \"\"\"\n",
    "        # print(\"PE: Shape of input to PosEnc.forward():\", x.shape)\n",
    "        # print(\"PE: Shape of self.pe[:x.size(0)]:\", self.pe[:x.size(0)].shape)\n",
    "        x = x + self.pe[:x.size(0)].squeeze(1)\n",
    "        # print(\"PE: Shape of output after adding PE:\", x.shape)\n",
    "        # print(\"PE: Shape of output after dropout:\", self.dropout(x).shape)\n",
    "        return self.dropout(x)\n",
    "    \n",
    "    def __call__(self, x: Tensor) -> Tensor:\n",
    "        return self.forward(x)\n",
    "    "
   ]
  },
  {
   "cell_type": "code",
   "execution_count": 78,
   "id": "d886062fb778dff1",
   "metadata": {
    "ExecuteTime": {
     "end_time": "2023-12-22T04:58:19.017493500Z",
     "start_time": "2023-12-22T04:58:18.920783900Z"
    },
    "collapsed": false
   },
   "outputs": [],
   "source": [
    "# %pip install portalocker\n",
    "# %pip install torchdata"
   ]
  },
  {
   "cell_type": "code",
   "execution_count": 79,
   "id": "7febc57dbb36b90a",
   "metadata": {
    "ExecuteTime": {
     "end_time": "2023-12-22T04:58:19.037463800Z",
     "start_time": "2023-12-22T04:58:18.940150100Z"
    },
    "collapsed": false
   },
   "outputs": [],
   "source": [
    "# %%bash\n",
    "# pip install torchtext"
   ]
  },
  {
   "cell_type": "code",
   "execution_count": 80,
   "id": "dca593c316a53bed",
   "metadata": {
    "ExecuteTime": {
     "end_time": "2023-12-22T04:58:27.164372200Z",
     "start_time": "2023-12-22T04:58:18.982465200Z"
    },
    "collapsed": false
   },
   "outputs": [
    {
     "name": "stdout",
     "output_type": "stream",
     "text": [
      "batch size, seq_len:  20 102499\n",
      "batch size, seq_len:  10 21441\n",
      "batch size, seq_len:  10 24185\n"
     ]
    }
   ],
   "source": [
    "from torchtext.datasets import WikiText2\n",
    "from torchtext.data.utils import get_tokenizer\n",
    "from torchtext.vocab import build_vocab_from_iterator\n",
    "\n",
    "train_iter = WikiText2(split='train')\n",
    "tokenizer = get_tokenizer('basic_english')\n",
    "vocab = build_vocab_from_iterator(map(tokenizer, train_iter), specials=['<unk>'])\n",
    "vocab.set_default_index(vocab['<unk>'])\n",
    "\n",
    "def data_process(raw_text_iter: dataset.IterableDataset) -> Tensor:\n",
    "    \"\"\"Converts raw text into a flat Tensor.\"\"\"\n",
    "    data = [torch.tensor(vocab(tokenizer(item)), dtype=torch.long) for item in raw_text_iter]\n",
    "    return torch.cat(tuple(filter(lambda t: t.numel() > 0, data)))\n",
    "\n",
    "# ``train_iter`` was \"consumed\" by the process of building the vocab,\n",
    "# so we have to create it again\n",
    "train_iter, val_iter, test_iter = WikiText2()\n",
    "train_data = data_process(train_iter)\n",
    "val_data = data_process(val_iter)\n",
    "test_data = data_process(test_iter)\n",
    "\n",
    "def batchify(data: Tensor, bsz: int) -> Tensor:\n",
    "    \"\"\"Divides the data into ``bsz`` separate sequences, removing extra elements\n",
    "    that wouldn't cleanly fit.\n",
    "\n",
    "    Arguments:\n",
    "        data: Tensor, shape ``[N]``\n",
    "        bsz: int, batch size\n",
    "\n",
    "    Returns:\n",
    "        Tensor of shape ``[N // bsz, bsz]``\n",
    "    \"\"\"\n",
    "    seq_len = data.size(0) // bsz\n",
    "    print('batch size, seq_len: ', bsz, seq_len)\n",
    "    data = data[:seq_len * bsz]\n",
    "    data = data.view(bsz, seq_len).t().contiguous()\n",
    "    return data.to(device)\n",
    "\n",
    "batch_size = 20\n",
    "eval_batch_size = 10\n",
    "train_data = batchify(train_data, batch_size)  # shape ``[seq_len, batch_size]``\n",
    "val_data = batchify(val_data, eval_batch_size)\n",
    "test_data = batchify(test_data, eval_batch_size)"
   ]
  },
  {
   "cell_type": "code",
   "execution_count": 81,
   "id": "d803acffc2ec94f2",
   "metadata": {
    "ExecuteTime": {
     "end_time": "2023-12-22T04:58:31.078717800Z",
     "start_time": "2023-12-22T04:58:27.180908500Z"
    },
    "collapsed": false
   },
   "outputs": [
    {
     "data": {
      "text/plain": [
       "2049990"
      ]
     },
     "execution_count": 81,
     "metadata": {},
     "output_type": "execute_result"
    }
   ],
   "source": [
    "train_data = data_process(train_iter)\n",
    "train_data = train_data.to(device)\n",
    "\n",
    "val_data = data_process(val_iter)\n",
    "val_data = val_data.to(device)\n",
    "\n",
    "test_data = data_process(test_iter)\n",
    "test_data = test_data.to(device)\n",
    "\n",
    "len(train_data)"
   ]
  },
  {
   "cell_type": "code",
   "execution_count": 82,
   "id": "d88d2c892cda70c2",
   "metadata": {
    "ExecuteTime": {
     "end_time": "2023-12-22T04:58:31.139456500Z",
     "start_time": "2023-12-22T04:58:31.067470500Z"
    },
    "collapsed": false
   },
   "outputs": [
    {
     "data": {
      "text/plain": [
       "tensor([   9, 3849, 3869,  ..., 2442, 4810,    3], device='cuda:0')"
      ]
     },
     "execution_count": 82,
     "metadata": {},
     "output_type": "execute_result"
    }
   ],
   "source": [
    "train_data"
   ]
  },
  {
   "cell_type": "code",
   "execution_count": 83,
   "id": "e11b24eabd79dae",
   "metadata": {
    "ExecuteTime": {
     "end_time": "2023-12-22T04:58:31.172462300Z",
     "start_time": "2023-12-22T04:58:31.105238300Z"
    },
    "collapsed": false
   },
   "outputs": [],
   "source": [
    "# bptt = 256\n",
    "# bptt = 1024\n",
    "bptt = 2048\n",
    "# bptt = 3072\n",
    "def get_batch(source: Tensor, i: int) -> Tuple[Tensor, Tensor]:\n",
    "    \"\"\"\n",
    "    Args:\n",
    "        source: Tensor, shape ``[full_seq_len, batch_size]``\n",
    "        i: int\n",
    "\n",
    "    Returns:\n",
    "        tuple (data, target), where data has shape ``[seq_len, batch_size]`` and\n",
    "        target has shape ``[seq_len * batch_size]``\n",
    "    \"\"\"\n",
    "    seq_len = min(bptt, len(source) - 1 - i)\n",
    "    data = source[i:i+seq_len]\n",
    "    target = source[i+1:i+1+seq_len].reshape(-1)\n",
    "    return data, target"
   ]
  },
  {
   "cell_type": "code",
   "execution_count": 84,
   "id": "4d6bf4cf",
   "metadata": {},
   "outputs": [],
   "source": [
    "optimizer, scheduler = None, None"
   ]
  },
  {
   "cell_type": "code",
   "execution_count": 85,
   "id": "8293d59742313d7a",
   "metadata": {
    "ExecuteTime": {
     "end_time": "2023-12-22T14:43:43.635007100Z",
     "start_time": "2023-12-22T14:43:37.773007100Z"
    },
    "collapsed": false
   },
   "outputs": [],
   "source": [
    "import time\n",
    "train_accelerate_factor = 1\n",
    "\n",
    "criterion = nn.CrossEntropyLoss()\n",
    "\n",
    "def train(model: nn.Module, verbose=False) -> None:\n",
    "    \n",
    "    model.train()  # turn on train mode\n",
    "    total_loss = 0.\n",
    "    log_interval = 100\n",
    "    start_time = time.time()\n",
    "\n",
    "    train_losses = []\n",
    "\n",
    "    num_batches = len(train_data) // bptt\n",
    "    print('batch size = ', bptt, '; number of batches = ', num_batches)\n",
    "    for batch, i in enumerate(range(0, train_data.size(0) - 1, bptt)):\n",
    "        if batch % train_accelerate_factor != 0:\n",
    "            continue\n",
    "        data, targets = get_batch(train_data, i)\n",
    "        data, targets = data.to(device), targets.to(device)\n",
    "\n",
    "        output = model(data, verbose=verbose)\n",
    "        loss = criterion(output, targets)\n",
    "\n",
    "        optimizer.zero_grad()\n",
    "        loss.backward()\n",
    "        torch.nn.utils.clip_grad_norm_(model.parameters(), 0.5)\n",
    "        optimizer.step()\n",
    "    \n",
    "        total_loss += loss.item()\n",
    "        if batch % log_interval == 0:\n",
    "            lr = scheduler.get_last_lr()[0]\n",
    "            ms_per_batch = (time.time() - start_time) * 1000 / log_interval\n",
    "            start_time = time.time()\n",
    "            cur_loss = total_loss / log_interval\n",
    "            train_losses.append(cur_loss)\n",
    "            ppl = math.exp(cur_loss)\n",
    "            print(f'| epoch {epoch:3d} | {batch:5d}/{num_batches:5d} batches | '\n",
    "                  f'lr {lr:02.2f} | ms/batch {ms_per_batch:5.2f} | '\n",
    "                  f'loss {cur_loss:5.2f} | ppl {ppl:8.2f}')\n",
    "            total_loss = 0\n",
    "\n",
    "    return train_losses\n",
    "\n",
    "def evaluate(model: nn.Module, eval_data: Tensor) -> float:\n",
    "    model.eval()  # turn on evaluation mode\n",
    "    total_loss = 0.\n",
    "    with torch.no_grad():\n",
    "        for i in range(0, eval_data.size(0) - 1, bptt):\n",
    "            data, targets = get_batch(eval_data, i)\n",
    "            seq_len = data.size(0)\n",
    "            data = data.to(device)\n",
    "            output = model(data)\n",
    "            output_flat = output.view(-1, ntokens)\n",
    "            total_loss += seq_len * criterion(output_flat, targets).item()\n",
    "            # total_loss += criterion(output_flat, targets).item()\n",
    "    return total_loss / (len(eval_data) - 1)"
   ]
  },
  {
   "cell_type": "code",
   "execution_count": 86,
   "id": "473190a6",
   "metadata": {},
   "outputs": [],
   "source": [
    "ntokens = len(vocab)  # size of vocabulary\n",
    "emsize = 50  # embedding dimension (default 200)\n",
    "d_hid = 200  # dimension of the feedforward network model in ``nn.TransformerEncoder``\n",
    "nlayers = 2  # number of ``nn.TransformerEncoderLayer`` in ``nn.TransformerEncoder``\n",
    "nhead = 2  # number of heads in ``nn.MultiheadAttention``\n",
    "dropout = 0.2  # dropout probability"
   ]
  },
  {
   "cell_type": "code",
   "execution_count": 87,
   "id": "b6a14b6a",
   "metadata": {},
   "outputs": [],
   "source": [
    "lr = 0.25  # learning rate"
   ]
  },
  {
   "cell_type": "code",
   "execution_count": 88,
   "id": "bd4844ca",
   "metadata": {},
   "outputs": [],
   "source": [
    "def new_model():\n",
    "    model = TransformerModel(ntokens, emsize, nhead, d_hid, nlayers, dropout).to(device)\n",
    "    optimizer = torch.optim.AdamW(model.parameters(), lr=lr)\n",
    "    scheduler = torch.optim.lr_scheduler.StepLR(optimizer, 1.0, gamma=0.95)\n",
    "    return model, optimizer, scheduler"
   ]
  },
  {
   "cell_type": "code",
   "execution_count": 89,
   "id": "079675e8",
   "metadata": {},
   "outputs": [],
   "source": [
    "model, optimizer, scheduler = new_model()\n",
    "\n",
    "data, targets = get_batch(train_data, 0)\n",
    "data, targets = data.to(device), targets.to(device)\n",
    "\n",
    "output = model(data, verbose=False)"
   ]
  },
  {
   "cell_type": "code",
   "execution_count": 90,
   "id": "a0e82ee2",
   "metadata": {},
   "outputs": [
    {
     "name": "stdout",
     "output_type": "stream",
     "text": [
      "batch size =  2048 ; number of batches =  1000\n",
      "| epoch   0 |     0/ 1000 batches | lr 0.25 | ms/batch  0.54 | loss  0.10 | ppl     1.11\n",
      "| epoch   0 |   100/ 1000 batches | lr 0.25 | ms/batch  0.70 | loss  0.25 | ppl     1.29\n",
      "| epoch   0 |   200/ 1000 batches | lr 0.25 | ms/batch  0.72 | loss  0.34 | ppl     1.40\n",
      "| epoch   0 |   300/ 1000 batches | lr 0.25 | ms/batch  0.70 | loss  0.25 | ppl     1.28\n",
      "| epoch   0 |   400/ 1000 batches | lr 0.25 | ms/batch  0.71 | loss  0.30 | ppl     1.35\n",
      "| epoch   0 |   500/ 1000 batches | lr 0.25 | ms/batch  0.66 | loss  0.23 | ppl     1.26\n",
      "| epoch   0 |   600/ 1000 batches | lr 0.25 | ms/batch  0.61 | loss  0.18 | ppl     1.20\n",
      "| epoch   0 |   700/ 1000 batches | lr 0.25 | ms/batch  0.61 | loss  0.18 | ppl     1.20\n",
      "| epoch   0 |   800/ 1000 batches | lr 0.25 | ms/batch  0.61 | loss  0.17 | ppl     1.19\n",
      "| epoch   0 |   900/ 1000 batches | lr 0.25 | ms/batch  0.61 | loss  0.17 | ppl     1.18\n",
      "| epoch   0 |  1000/ 1000 batches | lr 0.25 | ms/batch  0.66 | loss  0.16 | ppl     1.18\n",
      "-----------------------------------------------------------------------------------------\n",
      "| end of epoch   0 | time:  2.29s | valid loss  8.17 | valid ppl  3537.03\n",
      "-----------------------------------------------------------------------------------------\n",
      "batch size =  2048 ; number of batches =  1000\n",
      "| epoch   1 |     0/ 1000 batches | lr 0.24 | ms/batch  0.30 | loss  0.08 | ppl     1.09\n",
      "| epoch   1 |   100/ 1000 batches | lr 0.24 | ms/batch  0.59 | loss  0.14 | ppl     1.15\n",
      "| epoch   1 |   200/ 1000 batches | lr 0.24 | ms/batch  0.58 | loss  0.14 | ppl     1.15\n",
      "| epoch   1 |   300/ 1000 batches | lr 0.24 | ms/batch  0.59 | loss  0.15 | ppl     1.16\n",
      "| epoch   1 |   400/ 1000 batches | lr 0.24 | ms/batch  0.65 | loss  0.15 | ppl     1.17\n",
      "| epoch   1 |   500/ 1000 batches | lr 0.24 | ms/batch  0.71 | loss  0.15 | ppl     1.16\n",
      "| epoch   1 |   600/ 1000 batches | lr 0.24 | ms/batch  0.63 | loss  0.17 | ppl     1.18\n",
      "| epoch   1 |   700/ 1000 batches | lr 0.24 | ms/batch  0.60 | loss  0.16 | ppl     1.17\n",
      "| epoch   1 |   800/ 1000 batches | lr 0.24 | ms/batch  0.65 | loss  0.16 | ppl     1.18\n",
      "| epoch   1 |   900/ 1000 batches | lr 0.24 | ms/batch  0.59 | loss  0.15 | ppl     1.17\n",
      "| epoch   1 |  1000/ 1000 batches | lr 0.24 | ms/batch  0.59 | loss  0.17 | ppl     1.19\n",
      "-----------------------------------------------------------------------------------------\n",
      "| end of epoch   1 | time:  2.22s | valid loss  9.33 | valid ppl 11249.04\n",
      "-----------------------------------------------------------------------------------------\n",
      "batch size =  2048 ; number of batches =  1000\n",
      "| epoch   2 |     0/ 1000 batches | lr 0.23 | ms/batch  0.29 | loss  0.08 | ppl     1.08\n",
      "| epoch   2 |   100/ 1000 batches | lr 0.23 | ms/batch  0.59 | loss  0.16 | ppl     1.18\n",
      "| epoch   2 |   200/ 1000 batches | lr 0.23 | ms/batch  0.59 | loss  0.15 | ppl     1.16\n",
      "| epoch   2 |   300/ 1000 batches | lr 0.23 | ms/batch  0.59 | loss  0.15 | ppl     1.17\n",
      "| epoch   2 |   400/ 1000 batches | lr 0.23 | ms/batch  0.69 | loss  0.18 | ppl     1.20\n",
      "| epoch   2 |   500/ 1000 batches | lr 0.23 | ms/batch  0.65 | loss  0.17 | ppl     1.19\n",
      "| epoch   2 |   600/ 1000 batches | lr 0.23 | ms/batch  0.59 | loss  0.15 | ppl     1.16\n",
      "| epoch   2 |   700/ 1000 batches | lr 0.23 | ms/batch  0.61 | loss  0.15 | ppl     1.16\n",
      "| epoch   2 |   800/ 1000 batches | lr 0.23 | ms/batch  0.59 | loss  0.18 | ppl     1.20\n",
      "| epoch   2 |   900/ 1000 batches | lr 0.23 | ms/batch  0.60 | loss  0.15 | ppl     1.16\n",
      "| epoch   2 |  1000/ 1000 batches | lr 0.23 | ms/batch  0.57 | loss  0.18 | ppl     1.19\n",
      "-----------------------------------------------------------------------------------------\n",
      "| end of epoch   2 | time:  2.25s | valid loss 10.77 | valid ppl 47505.57\n",
      "-----------------------------------------------------------------------------------------\n",
      "batch size =  2048 ; number of batches =  1000\n",
      "| epoch   3 |     0/ 1000 batches | lr 0.21 | ms/batch  0.31 | loss  0.09 | ppl     1.10\n",
      "| epoch   3 |   100/ 1000 batches | lr 0.21 | ms/batch  0.66 | loss  0.21 | ppl     1.24\n",
      "| epoch   3 |   200/ 1000 batches | lr 0.21 | ms/batch  0.59 | loss  0.18 | ppl     1.20\n",
      "| epoch   3 |   300/ 1000 batches | lr 0.21 | ms/batch  0.60 | loss  0.18 | ppl     1.20\n",
      "| epoch   3 |   400/ 1000 batches | lr 0.21 | ms/batch  0.61 | loss  0.20 | ppl     1.22\n",
      "| epoch   3 |   500/ 1000 batches | lr 0.21 | ms/batch  0.63 | loss  0.16 | ppl     1.17\n",
      "| epoch   3 |   600/ 1000 batches | lr 0.21 | ms/batch  0.59 | loss  0.14 | ppl     1.15\n",
      "| epoch   3 |   700/ 1000 batches | lr 0.21 | ms/batch  0.59 | loss  0.16 | ppl     1.18\n",
      "| epoch   3 |   800/ 1000 batches | lr 0.21 | ms/batch  0.60 | loss  0.16 | ppl     1.17\n",
      "| epoch   3 |   900/ 1000 batches | lr 0.21 | ms/batch  0.60 | loss  0.14 | ppl     1.16\n",
      "| epoch   3 |  1000/ 1000 batches | lr 0.21 | ms/batch  0.58 | loss  0.15 | ppl     1.16\n",
      "-----------------------------------------------------------------------------------------\n",
      "| end of epoch   3 | time:  2.12s | valid loss  8.80 | valid ppl  6602.73\n",
      "-----------------------------------------------------------------------------------------\n",
      "batch size =  2048 ; number of batches =  1000\n",
      "| epoch   4 |     0/ 1000 batches | lr 0.20 | ms/batch  0.29 | loss  0.08 | ppl     1.08\n",
      "| epoch   4 |   100/ 1000 batches | lr 0.20 | ms/batch  0.57 | loss  0.15 | ppl     1.16\n",
      "| epoch   4 |   200/ 1000 batches | lr 0.20 | ms/batch  0.60 | loss  0.14 | ppl     1.15\n",
      "| epoch   4 |   300/ 1000 batches | lr 0.20 | ms/batch  0.58 | loss  0.14 | ppl     1.15\n",
      "| epoch   4 |   400/ 1000 batches | lr 0.20 | ms/batch  0.59 | loss  0.14 | ppl     1.16\n",
      "| epoch   4 |   500/ 1000 batches | lr 0.20 | ms/batch  0.61 | loss  0.14 | ppl     1.15\n",
      "| epoch   4 |   600/ 1000 batches | lr 0.20 | ms/batch  0.59 | loss  0.14 | ppl     1.15\n",
      "| epoch   4 |   700/ 1000 batches | lr 0.20 | ms/batch  0.59 | loss  0.14 | ppl     1.15\n",
      "| epoch   4 |   800/ 1000 batches | lr 0.20 | ms/batch  0.59 | loss  0.15 | ppl     1.17\n",
      "| epoch   4 |   900/ 1000 batches | lr 0.20 | ms/batch  0.61 | loss  0.15 | ppl     1.16\n",
      "| epoch   4 |  1000/ 1000 batches | lr 0.20 | ms/batch  0.57 | loss  0.15 | ppl     1.16\n",
      "-----------------------------------------------------------------------------------------\n",
      "| end of epoch   4 | time:  2.12s | valid loss  8.06 | valid ppl  3162.54\n",
      "-----------------------------------------------------------------------------------------\n",
      "batch size =  2048 ; number of batches =  1000\n",
      "| epoch   5 |     0/ 1000 batches | lr 0.19 | ms/batch  0.29 | loss  0.09 | ppl     1.09\n",
      "| epoch   5 |   100/ 1000 batches | lr 0.19 | ms/batch  0.59 | loss  0.14 | ppl     1.15\n",
      "| epoch   5 |   200/ 1000 batches | lr 0.19 | ms/batch  0.59 | loss  0.14 | ppl     1.15\n",
      "| epoch   5 |   300/ 1000 batches | lr 0.19 | ms/batch  0.60 | loss  0.15 | ppl     1.16\n",
      "| epoch   5 |   400/ 1000 batches | lr 0.19 | ms/batch  0.59 | loss  0.17 | ppl     1.18\n",
      "| epoch   5 |   500/ 1000 batches | lr 0.19 | ms/batch  0.59 | loss  0.15 | ppl     1.17\n",
      "| epoch   5 |   600/ 1000 batches | lr 0.19 | ms/batch  0.59 | loss  0.23 | ppl     1.26\n",
      "| epoch   5 |   700/ 1000 batches | lr 0.19 | ms/batch  0.59 | loss  0.19 | ppl     1.20\n",
      "| epoch   5 |   800/ 1000 batches | lr 0.19 | ms/batch  0.59 | loss  0.15 | ppl     1.16\n",
      "| epoch   5 |   900/ 1000 batches | lr 0.19 | ms/batch  0.58 | loss  0.16 | ppl     1.17\n",
      "| epoch   5 |  1000/ 1000 batches | lr 0.19 | ms/batch  0.57 | loss  0.15 | ppl     1.17\n",
      "-----------------------------------------------------------------------------------------\n",
      "| end of epoch   5 | time:  2.11s | valid loss  7.94 | valid ppl  2818.94\n",
      "-----------------------------------------------------------------------------------------\n",
      "batch size =  2048 ; number of batches =  1000\n",
      "| epoch   6 |     0/ 1000 batches | lr 0.18 | ms/batch  0.29 | loss  0.08 | ppl     1.08\n",
      "| epoch   6 |   100/ 1000 batches | lr 0.18 | ms/batch  0.57 | loss  0.13 | ppl     1.14\n",
      "| epoch   6 |   200/ 1000 batches | lr 0.18 | ms/batch  0.60 | loss  0.14 | ppl     1.15\n",
      "| epoch   6 |   300/ 1000 batches | lr 0.18 | ms/batch  0.58 | loss  0.14 | ppl     1.15\n",
      "| epoch   6 |   400/ 1000 batches | lr 0.18 | ms/batch  0.59 | loss  0.15 | ppl     1.16\n",
      "| epoch   6 |   500/ 1000 batches | lr 0.18 | ms/batch  0.60 | loss  0.14 | ppl     1.15\n",
      "| epoch   6 |   600/ 1000 batches | lr 0.18 | ms/batch  0.58 | loss  0.14 | ppl     1.15\n",
      "| epoch   6 |   700/ 1000 batches | lr 0.18 | ms/batch  0.59 | loss  0.15 | ppl     1.16\n",
      "| epoch   6 |   800/ 1000 batches | lr 0.18 | ms/batch  0.60 | loss  0.14 | ppl     1.15\n",
      "| epoch   6 |   900/ 1000 batches | lr 0.18 | ms/batch  0.61 | loss  0.14 | ppl     1.15\n",
      "| epoch   6 |  1000/ 1000 batches | lr 0.18 | ms/batch  0.59 | loss  0.14 | ppl     1.15\n",
      "-----------------------------------------------------------------------------------------\n",
      "| end of epoch   6 | time:  2.11s | valid loss  7.76 | valid ppl  2343.26\n",
      "-----------------------------------------------------------------------------------------\n",
      "batch size =  2048 ; number of batches =  1000\n",
      "| epoch   7 |     0/ 1000 batches | lr 0.17 | ms/batch  0.29 | loss  0.07 | ppl     1.07\n",
      "| epoch   7 |   100/ 1000 batches | lr 0.17 | ms/batch  0.60 | loss  0.13 | ppl     1.14\n",
      "| epoch   7 |   200/ 1000 batches | lr 0.17 | ms/batch  0.58 | loss  0.14 | ppl     1.15\n",
      "| epoch   7 |   300/ 1000 batches | lr 0.17 | ms/batch  0.57 | loss  0.15 | ppl     1.16\n",
      "| epoch   7 |   400/ 1000 batches | lr 0.17 | ms/batch  0.60 | loss  0.14 | ppl     1.15\n",
      "| epoch   7 |   500/ 1000 batches | lr 0.17 | ms/batch  0.61 | loss  0.14 | ppl     1.15\n",
      "| epoch   7 |   600/ 1000 batches | lr 0.17 | ms/batch  0.58 | loss  0.15 | ppl     1.16\n",
      "| epoch   7 |   700/ 1000 batches | lr 0.17 | ms/batch  0.57 | loss  0.14 | ppl     1.15\n",
      "| epoch   7 |   800/ 1000 batches | lr 0.17 | ms/batch  0.59 | loss  0.14 | ppl     1.15\n",
      "| epoch   7 |   900/ 1000 batches | lr 0.17 | ms/batch  0.60 | loss  0.14 | ppl     1.15\n",
      "| epoch   7 |  1000/ 1000 batches | lr 0.17 | ms/batch  0.60 | loss  0.15 | ppl     1.16\n",
      "-----------------------------------------------------------------------------------------\n",
      "| end of epoch   7 | time:  2.31s | valid loss  8.07 | valid ppl  3181.73\n",
      "-----------------------------------------------------------------------------------------\n",
      "batch size =  2048 ; number of batches =  1000\n",
      "| epoch   8 |     0/ 1000 batches | lr 0.17 | ms/batch  0.29 | loss  0.07 | ppl     1.08\n",
      "| epoch   8 |   100/ 1000 batches | lr 0.17 | ms/batch  0.58 | loss  0.13 | ppl     1.14\n",
      "| epoch   8 |   200/ 1000 batches | lr 0.17 | ms/batch  0.59 | loss  0.13 | ppl     1.14\n",
      "| epoch   8 |   300/ 1000 batches | lr 0.17 | ms/batch  0.60 | loss  0.14 | ppl     1.15\n",
      "| epoch   8 |   400/ 1000 batches | lr 0.17 | ms/batch  0.62 | loss  0.15 | ppl     1.16\n",
      "| epoch   8 |   500/ 1000 batches | lr 0.17 | ms/batch  0.60 | loss  0.14 | ppl     1.15\n",
      "| epoch   8 |   600/ 1000 batches | lr 0.17 | ms/batch  0.60 | loss  0.14 | ppl     1.15\n",
      "| epoch   8 |   700/ 1000 batches | lr 0.17 | ms/batch  0.59 | loss  0.14 | ppl     1.15\n",
      "| epoch   8 |   800/ 1000 batches | lr 0.17 | ms/batch  0.59 | loss  0.14 | ppl     1.15\n",
      "| epoch   8 |   900/ 1000 batches | lr 0.17 | ms/batch  0.63 | loss  0.14 | ppl     1.15\n",
      "| epoch   8 |  1000/ 1000 batches | lr 0.17 | ms/batch  0.58 | loss  0.14 | ppl     1.15\n",
      "-----------------------------------------------------------------------------------------\n",
      "| end of epoch   8 | time:  2.12s | valid loss  7.93 | valid ppl  2786.48\n",
      "-----------------------------------------------------------------------------------------\n",
      "batch size =  2048 ; number of batches =  1000\n",
      "| epoch   9 |     0/ 1000 batches | lr 0.16 | ms/batch  0.29 | loss  0.07 | ppl     1.07\n",
      "| epoch   9 |   100/ 1000 batches | lr 0.16 | ms/batch  0.59 | loss  0.13 | ppl     1.14\n",
      "| epoch   9 |   200/ 1000 batches | lr 0.16 | ms/batch  0.60 | loss  0.13 | ppl     1.14\n",
      "| epoch   9 |   300/ 1000 batches | lr 0.16 | ms/batch  0.58 | loss  0.14 | ppl     1.16\n",
      "| epoch   9 |   400/ 1000 batches | lr 0.16 | ms/batch  0.62 | loss  0.13 | ppl     1.14\n",
      "| epoch   9 |   500/ 1000 batches | lr 0.16 | ms/batch  0.59 | loss  0.14 | ppl     1.15\n",
      "| epoch   9 |   600/ 1000 batches | lr 0.16 | ms/batch  0.58 | loss  0.14 | ppl     1.16\n",
      "| epoch   9 |   700/ 1000 batches | lr 0.16 | ms/batch  0.60 | loss  0.14 | ppl     1.15\n",
      "| epoch   9 |   800/ 1000 batches | lr 0.16 | ms/batch  0.60 | loss  0.14 | ppl     1.15\n",
      "| epoch   9 |   900/ 1000 batches | lr 0.16 | ms/batch  0.62 | loss  0.14 | ppl     1.15\n",
      "| epoch   9 |  1000/ 1000 batches | lr 0.16 | ms/batch  0.59 | loss  0.15 | ppl     1.16\n",
      "-----------------------------------------------------------------------------------------\n",
      "| end of epoch   9 | time:  2.36s | valid loss  8.15 | valid ppl  3455.36\n",
      "-----------------------------------------------------------------------------------------\n",
      "batch size =  2048 ; number of batches =  1000\n",
      "| epoch  10 |     0/ 1000 batches | lr 0.15 | ms/batch  0.29 | loss  0.07 | ppl     1.07\n",
      "| epoch  10 |   100/ 1000 batches | lr 0.15 | ms/batch  0.59 | loss  0.13 | ppl     1.14\n",
      "| epoch  10 |   200/ 1000 batches | lr 0.15 | ms/batch  0.60 | loss  0.13 | ppl     1.14\n",
      "| epoch  10 |   300/ 1000 batches | lr 0.15 | ms/batch  0.59 | loss  0.15 | ppl     1.16\n",
      "| epoch  10 |   400/ 1000 batches | lr 0.15 | ms/batch  0.62 | loss  0.14 | ppl     1.15\n",
      "| epoch  10 |   500/ 1000 batches | lr 0.15 | ms/batch  0.64 | loss  0.14 | ppl     1.15\n",
      "| epoch  10 |   600/ 1000 batches | lr 0.15 | ms/batch  0.60 | loss  0.14 | ppl     1.16\n",
      "| epoch  10 |   700/ 1000 batches | lr 0.15 | ms/batch  0.65 | loss  0.14 | ppl     1.15\n",
      "| epoch  10 |   800/ 1000 batches | lr 0.15 | ms/batch  0.71 | loss  0.14 | ppl     1.15\n",
      "| epoch  10 |   900/ 1000 batches | lr 0.15 | ms/batch  0.72 | loss  0.15 | ppl     1.16\n",
      "| epoch  10 |  1000/ 1000 batches | lr 0.15 | ms/batch  0.69 | loss  0.15 | ppl     1.16\n",
      "-----------------------------------------------------------------------------------------\n",
      "| end of epoch  10 | time:  2.29s | valid loss  7.86 | valid ppl  2597.15\n",
      "-----------------------------------------------------------------------------------------\n",
      "batch size =  2048 ; number of batches =  1000\n",
      "| epoch  11 |     0/ 1000 batches | lr 0.14 | ms/batch  0.31 | loss  0.07 | ppl     1.08\n",
      "| epoch  11 |   100/ 1000 batches | lr 0.14 | ms/batch  0.59 | loss  0.13 | ppl     1.14\n",
      "| epoch  11 |   200/ 1000 batches | lr 0.14 | ms/batch  0.61 | loss  0.14 | ppl     1.15\n",
      "| epoch  11 |   300/ 1000 batches | lr 0.14 | ms/batch  0.59 | loss  0.15 | ppl     1.16\n",
      "| epoch  11 |   400/ 1000 batches | lr 0.14 | ms/batch  0.59 | loss  0.14 | ppl     1.15\n",
      "| epoch  11 |   500/ 1000 batches | lr 0.14 | ms/batch  0.60 | loss  0.15 | ppl     1.16\n",
      "| epoch  11 |   600/ 1000 batches | lr 0.14 | ms/batch  0.59 | loss  0.15 | ppl     1.17\n",
      "| epoch  11 |   700/ 1000 batches | lr 0.14 | ms/batch  0.60 | loss  0.15 | ppl     1.16\n",
      "| epoch  11 |   800/ 1000 batches | lr 0.14 | ms/batch  0.62 | loss  0.15 | ppl     1.16\n",
      "| epoch  11 |   900/ 1000 batches | lr 0.14 | ms/batch  0.59 | loss  0.15 | ppl     1.16\n",
      "| epoch  11 |  1000/ 1000 batches | lr 0.14 | ms/batch  0.58 | loss  0.14 | ppl     1.15\n",
      "-----------------------------------------------------------------------------------------\n",
      "| end of epoch  11 | time:  2.12s | valid loss  8.14 | valid ppl  3422.39\n",
      "-----------------------------------------------------------------------------------------\n",
      "batch size =  2048 ; number of batches =  1000\n",
      "| epoch  12 |     0/ 1000 batches | lr 0.14 | ms/batch  0.29 | loss  0.08 | ppl     1.08\n",
      "| epoch  12 |   100/ 1000 batches | lr 0.14 | ms/batch  0.58 | loss  0.15 | ppl     1.16\n",
      "| epoch  12 |   200/ 1000 batches | lr 0.14 | ms/batch  0.60 | loss  0.14 | ppl     1.15\n",
      "| epoch  12 |   300/ 1000 batches | lr 0.14 | ms/batch  0.62 | loss  0.14 | ppl     1.15\n",
      "| epoch  12 |   400/ 1000 batches | lr 0.14 | ms/batch  0.60 | loss  0.14 | ppl     1.15\n",
      "| epoch  12 |   500/ 1000 batches | lr 0.14 | ms/batch  0.59 | loss  0.15 | ppl     1.16\n",
      "| epoch  12 |   600/ 1000 batches | lr 0.14 | ms/batch  0.60 | loss  0.14 | ppl     1.15\n",
      "| epoch  12 |   700/ 1000 batches | lr 0.14 | ms/batch  0.60 | loss  0.14 | ppl     1.15\n",
      "| epoch  12 |   800/ 1000 batches | lr 0.14 | ms/batch  0.59 | loss  0.15 | ppl     1.16\n",
      "| epoch  12 |   900/ 1000 batches | lr 0.14 | ms/batch  0.67 | loss  0.15 | ppl     1.16\n",
      "| epoch  12 |  1000/ 1000 batches | lr 0.14 | ms/batch  0.67 | loss  0.14 | ppl     1.15\n",
      "-----------------------------------------------------------------------------------------\n",
      "| end of epoch  12 | time:  2.12s | valid loss  7.72 | valid ppl  2260.50\n",
      "-----------------------------------------------------------------------------------------\n",
      "batch size =  2048 ; number of batches =  1000\n",
      "| epoch  13 |     0/ 1000 batches | lr 0.13 | ms/batch  0.28 | loss  0.08 | ppl     1.08\n",
      "| epoch  13 |   100/ 1000 batches | lr 0.13 | ms/batch  0.58 | loss  0.14 | ppl     1.15\n",
      "| epoch  13 |   200/ 1000 batches | lr 0.13 | ms/batch  0.60 | loss  0.13 | ppl     1.14\n",
      "| epoch  13 |   300/ 1000 batches | lr 0.13 | ms/batch  0.58 | loss  0.14 | ppl     1.15\n",
      "| epoch  13 |   400/ 1000 batches | lr 0.13 | ms/batch  0.59 | loss  0.14 | ppl     1.15\n",
      "| epoch  13 |   500/ 1000 batches | lr 0.13 | ms/batch  0.58 | loss  0.14 | ppl     1.15\n",
      "| epoch  13 |   600/ 1000 batches | lr 0.13 | ms/batch  0.59 | loss  0.14 | ppl     1.15\n",
      "| epoch  13 |   700/ 1000 batches | lr 0.13 | ms/batch  0.59 | loss  0.14 | ppl     1.15\n",
      "| epoch  13 |   800/ 1000 batches | lr 0.13 | ms/batch  0.59 | loss  0.14 | ppl     1.16\n",
      "| epoch  13 |   900/ 1000 batches | lr 0.13 | ms/batch  0.61 | loss  0.14 | ppl     1.15\n",
      "| epoch  13 |  1000/ 1000 batches | lr 0.13 | ms/batch  0.59 | loss  0.13 | ppl     1.14\n",
      "-----------------------------------------------------------------------------------------\n",
      "| end of epoch  13 | time:  2.10s | valid loss  7.95 | valid ppl  2848.21\n",
      "-----------------------------------------------------------------------------------------\n",
      "batch size =  2048 ; number of batches =  1000\n",
      "| epoch  14 |     0/ 1000 batches | lr 0.12 | ms/batch  0.29 | loss  0.07 | ppl     1.07\n",
      "| epoch  14 |   100/ 1000 batches | lr 0.12 | ms/batch  0.59 | loss  0.13 | ppl     1.14\n",
      "| epoch  14 |   200/ 1000 batches | lr 0.12 | ms/batch  0.58 | loss  0.13 | ppl     1.14\n",
      "| epoch  14 |   300/ 1000 batches | lr 0.12 | ms/batch  0.60 | loss  0.14 | ppl     1.15\n",
      "| epoch  14 |   400/ 1000 batches | lr 0.12 | ms/batch  0.61 | loss  0.13 | ppl     1.14\n",
      "| epoch  14 |   500/ 1000 batches | lr 0.12 | ms/batch  0.59 | loss  0.14 | ppl     1.14\n",
      "| epoch  14 |   600/ 1000 batches | lr 0.12 | ms/batch  0.58 | loss  0.14 | ppl     1.15\n",
      "| epoch  14 |   700/ 1000 batches | lr 0.12 | ms/batch  0.59 | loss  0.14 | ppl     1.15\n",
      "| epoch  14 |   800/ 1000 batches | lr 0.12 | ms/batch  0.61 | loss  0.14 | ppl     1.16\n",
      "| epoch  14 |   900/ 1000 batches | lr 0.12 | ms/batch  0.64 | loss  0.14 | ppl     1.15\n",
      "| epoch  14 |  1000/ 1000 batches | lr 0.12 | ms/batch  0.70 | loss  0.13 | ppl     1.14\n",
      "-----------------------------------------------------------------------------------------\n",
      "| end of epoch  14 | time:  2.12s | valid loss  7.63 | valid ppl  2062.69\n",
      "-----------------------------------------------------------------------------------------\n",
      "batch size =  2048 ; number of batches =  1000\n",
      "| epoch  15 |     0/ 1000 batches | lr 0.12 | ms/batch  0.28 | loss  0.07 | ppl     1.08\n",
      "| epoch  15 |   100/ 1000 batches | lr 0.12 | ms/batch  0.57 | loss  0.13 | ppl     1.14\n",
      "| epoch  15 |   200/ 1000 batches | lr 0.12 | ms/batch  0.58 | loss  0.13 | ppl     1.14\n",
      "| epoch  15 |   300/ 1000 batches | lr 0.12 | ms/batch  0.58 | loss  0.14 | ppl     1.15\n",
      "| epoch  15 |   400/ 1000 batches | lr 0.12 | ms/batch  0.58 | loss  0.13 | ppl     1.14\n",
      "| epoch  15 |   500/ 1000 batches | lr 0.12 | ms/batch  0.59 | loss  0.14 | ppl     1.15\n",
      "| epoch  15 |   600/ 1000 batches | lr 0.12 | ms/batch  0.57 | loss  0.14 | ppl     1.15\n",
      "| epoch  15 |   700/ 1000 batches | lr 0.12 | ms/batch  0.58 | loss  0.14 | ppl     1.15\n",
      "| epoch  15 |   800/ 1000 batches | lr 0.12 | ms/batch  0.56 | loss  0.14 | ppl     1.15\n",
      "| epoch  15 |   900/ 1000 batches | lr 0.12 | ms/batch  0.58 | loss  0.14 | ppl     1.15\n",
      "| epoch  15 |  1000/ 1000 batches | lr 0.12 | ms/batch  0.56 | loss  0.14 | ppl     1.15\n",
      "-----------------------------------------------------------------------------------------\n",
      "| end of epoch  15 | time:  2.02s | valid loss  7.61 | valid ppl  2021.74\n",
      "-----------------------------------------------------------------------------------------\n",
      "batch size =  2048 ; number of batches =  1000\n",
      "| epoch  16 |     0/ 1000 batches | lr 0.11 | ms/batch  0.29 | loss  0.07 | ppl     1.08\n",
      "| epoch  16 |   100/ 1000 batches | lr 0.11 | ms/batch  0.57 | loss  0.13 | ppl     1.14\n",
      "| epoch  16 |   200/ 1000 batches | lr 0.11 | ms/batch  0.57 | loss  0.13 | ppl     1.14\n",
      "| epoch  16 |   300/ 1000 batches | lr 0.11 | ms/batch  0.59 | loss  0.14 | ppl     1.15\n",
      "| epoch  16 |   400/ 1000 batches | lr 0.11 | ms/batch  0.59 | loss  0.14 | ppl     1.15\n",
      "| epoch  16 |   500/ 1000 batches | lr 0.11 | ms/batch  0.58 | loss  0.14 | ppl     1.16\n",
      "| epoch  16 |   600/ 1000 batches | lr 0.11 | ms/batch  0.58 | loss  0.15 | ppl     1.16\n",
      "| epoch  16 |   700/ 1000 batches | lr 0.11 | ms/batch  0.57 | loss  0.14 | ppl     1.15\n",
      "| epoch  16 |   800/ 1000 batches | lr 0.11 | ms/batch  0.58 | loss  0.14 | ppl     1.15\n",
      "| epoch  16 |   900/ 1000 batches | lr 0.11 | ms/batch  0.59 | loss  0.14 | ppl     1.15\n",
      "| epoch  16 |  1000/ 1000 batches | lr 0.11 | ms/batch  0.55 | loss  0.14 | ppl     1.15\n",
      "-----------------------------------------------------------------------------------------\n",
      "| end of epoch  16 | time:  2.05s | valid loss  7.82 | valid ppl  2491.10\n",
      "-----------------------------------------------------------------------------------------\n",
      "batch size =  2048 ; number of batches =  1000\n",
      "| epoch  17 |     0/ 1000 batches | lr 0.10 | ms/batch  0.29 | loss  0.07 | ppl     1.08\n",
      "| epoch  17 |   100/ 1000 batches | lr 0.10 | ms/batch  0.57 | loss  0.14 | ppl     1.15\n",
      "| epoch  17 |   200/ 1000 batches | lr 0.10 | ms/batch  0.58 | loss  0.14 | ppl     1.15\n",
      "| epoch  17 |   300/ 1000 batches | lr 0.10 | ms/batch  0.58 | loss  0.14 | ppl     1.15\n",
      "| epoch  17 |   400/ 1000 batches | lr 0.10 | ms/batch  0.59 | loss  0.13 | ppl     1.14\n",
      "| epoch  17 |   500/ 1000 batches | lr 0.10 | ms/batch  0.60 | loss  0.14 | ppl     1.15\n",
      "| epoch  17 |   600/ 1000 batches | lr 0.10 | ms/batch  0.58 | loss  0.14 | ppl     1.15\n",
      "| epoch  17 |   700/ 1000 batches | lr 0.10 | ms/batch  0.58 | loss  0.14 | ppl     1.15\n",
      "| epoch  17 |   800/ 1000 batches | lr 0.10 | ms/batch  0.59 | loss  0.14 | ppl     1.15\n",
      "| epoch  17 |   900/ 1000 batches | lr 0.10 | ms/batch  0.58 | loss  0.14 | ppl     1.15\n",
      "| epoch  17 |  1000/ 1000 batches | lr 0.10 | ms/batch  0.58 | loss  0.14 | ppl     1.15\n",
      "-----------------------------------------------------------------------------------------\n",
      "| end of epoch  17 | time:  2.07s | valid loss  7.54 | valid ppl  1888.08\n",
      "-----------------------------------------------------------------------------------------\n",
      "batch size =  2048 ; number of batches =  1000\n",
      "| epoch  18 |     0/ 1000 batches | lr 0.10 | ms/batch  0.28 | loss  0.07 | ppl     1.07\n",
      "| epoch  18 |   100/ 1000 batches | lr 0.10 | ms/batch  0.57 | loss  0.13 | ppl     1.14\n",
      "| epoch  18 |   200/ 1000 batches | lr 0.10 | ms/batch  0.58 | loss  0.14 | ppl     1.15\n",
      "| epoch  18 |   300/ 1000 batches | lr 0.10 | ms/batch  0.58 | loss  0.14 | ppl     1.15\n",
      "| epoch  18 |   400/ 1000 batches | lr 0.10 | ms/batch  0.57 | loss  0.13 | ppl     1.14\n",
      "| epoch  18 |   500/ 1000 batches | lr 0.10 | ms/batch  0.60 | loss  0.13 | ppl     1.14\n",
      "| epoch  18 |   600/ 1000 batches | lr 0.10 | ms/batch  0.56 | loss  0.14 | ppl     1.15\n",
      "| epoch  18 |   700/ 1000 batches | lr 0.10 | ms/batch  0.58 | loss  0.14 | ppl     1.16\n",
      "| epoch  18 |   800/ 1000 batches | lr 0.10 | ms/batch  0.58 | loss  0.15 | ppl     1.16\n",
      "| epoch  18 |   900/ 1000 batches | lr 0.10 | ms/batch  0.58 | loss  0.15 | ppl     1.16\n",
      "| epoch  18 |  1000/ 1000 batches | lr 0.10 | ms/batch  0.56 | loss  0.14 | ppl     1.15\n",
      "-----------------------------------------------------------------------------------------\n",
      "| end of epoch  18 | time:  2.02s | valid loss  7.49 | valid ppl  1791.88\n",
      "-----------------------------------------------------------------------------------------\n",
      "batch size =  2048 ; number of batches =  1000\n",
      "| epoch  19 |     0/ 1000 batches | lr 0.09 | ms/batch  0.28 | loss  0.07 | ppl     1.07\n",
      "| epoch  19 |   100/ 1000 batches | lr 0.09 | ms/batch  0.58 | loss  0.13 | ppl     1.14\n",
      "| epoch  19 |   200/ 1000 batches | lr 0.09 | ms/batch  0.59 | loss  0.14 | ppl     1.15\n",
      "| epoch  19 |   300/ 1000 batches | lr 0.09 | ms/batch  0.58 | loss  0.14 | ppl     1.15\n",
      "| epoch  19 |   400/ 1000 batches | lr 0.09 | ms/batch  0.57 | loss  0.14 | ppl     1.15\n",
      "| epoch  19 |   500/ 1000 batches | lr 0.09 | ms/batch  0.57 | loss  0.14 | ppl     1.15\n",
      "| epoch  19 |   600/ 1000 batches | lr 0.09 | ms/batch  0.56 | loss  0.14 | ppl     1.15\n",
      "| epoch  19 |   700/ 1000 batches | lr 0.09 | ms/batch  0.58 | loss  0.14 | ppl     1.15\n",
      "| epoch  19 |   800/ 1000 batches | lr 0.09 | ms/batch  0.58 | loss  0.15 | ppl     1.16\n",
      "| epoch  19 |   900/ 1000 batches | lr 0.09 | ms/batch  0.57 | loss  0.14 | ppl     1.15\n",
      "| epoch  19 |  1000/ 1000 batches | lr 0.09 | ms/batch  0.57 | loss  0.14 | ppl     1.15\n",
      "-----------------------------------------------------------------------------------------\n",
      "| end of epoch  19 | time:  2.08s | valid loss  7.41 | valid ppl  1650.04\n",
      "-----------------------------------------------------------------------------------------\n",
      "batch size =  2048 ; number of batches =  1000\n",
      "| epoch  20 |     0/ 1000 batches | lr 0.09 | ms/batch  0.28 | loss  0.07 | ppl     1.07\n",
      "| epoch  20 |   100/ 1000 batches | lr 0.09 | ms/batch  0.57 | loss  0.13 | ppl     1.14\n",
      "| epoch  20 |   200/ 1000 batches | lr 0.09 | ms/batch  0.58 | loss  0.13 | ppl     1.14\n",
      "| epoch  20 |   300/ 1000 batches | lr 0.09 | ms/batch  0.60 | loss  0.14 | ppl     1.14\n",
      "| epoch  20 |   400/ 1000 batches | lr 0.09 | ms/batch  0.57 | loss  0.14 | ppl     1.15\n",
      "| epoch  20 |   500/ 1000 batches | lr 0.09 | ms/batch  0.60 | loss  0.14 | ppl     1.15\n",
      "| epoch  20 |   600/ 1000 batches | lr 0.09 | ms/batch  0.60 | loss  0.15 | ppl     1.16\n",
      "| epoch  20 |   700/ 1000 batches | lr 0.09 | ms/batch  0.58 | loss  0.14 | ppl     1.15\n",
      "| epoch  20 |   800/ 1000 batches | lr 0.09 | ms/batch  0.59 | loss  0.14 | ppl     1.15\n",
      "| epoch  20 |   900/ 1000 batches | lr 0.09 | ms/batch  0.59 | loss  0.15 | ppl     1.16\n",
      "| epoch  20 |  1000/ 1000 batches | lr 0.09 | ms/batch  0.56 | loss  0.14 | ppl     1.15\n",
      "-----------------------------------------------------------------------------------------\n",
      "| end of epoch  20 | time:  2.04s | valid loss  7.65 | valid ppl  2098.72\n",
      "-----------------------------------------------------------------------------------------\n",
      "batch size =  2048 ; number of batches =  1000\n",
      "| epoch  21 |     0/ 1000 batches | lr 0.09 | ms/batch  0.29 | loss  0.07 | ppl     1.07\n",
      "| epoch  21 |   100/ 1000 batches | lr 0.09 | ms/batch  0.60 | loss  0.13 | ppl     1.14\n",
      "| epoch  21 |   200/ 1000 batches | lr 0.09 | ms/batch  0.57 | loss  0.14 | ppl     1.15\n",
      "| epoch  21 |   300/ 1000 batches | lr 0.09 | ms/batch  0.58 | loss  0.14 | ppl     1.15\n",
      "| epoch  21 |   400/ 1000 batches | lr 0.09 | ms/batch  0.59 | loss  0.14 | ppl     1.15\n",
      "| epoch  21 |   500/ 1000 batches | lr 0.09 | ms/batch  0.59 | loss  0.14 | ppl     1.14\n",
      "| epoch  21 |   600/ 1000 batches | lr 0.09 | ms/batch  0.56 | loss  0.14 | ppl     1.15\n",
      "| epoch  21 |   700/ 1000 batches | lr 0.09 | ms/batch  0.59 | loss  0.14 | ppl     1.15\n",
      "| epoch  21 |   800/ 1000 batches | lr 0.09 | ms/batch  0.58 | loss  0.15 | ppl     1.17\n",
      "| epoch  21 |   900/ 1000 batches | lr 0.09 | ms/batch  0.58 | loss  0.15 | ppl     1.16\n",
      "| epoch  21 |  1000/ 1000 batches | lr 0.09 | ms/batch  0.57 | loss  0.14 | ppl     1.15\n",
      "-----------------------------------------------------------------------------------------\n",
      "| end of epoch  21 | time:  2.09s | valid loss  7.71 | valid ppl  2223.80\n",
      "-----------------------------------------------------------------------------------------\n",
      "batch size =  2048 ; number of batches =  1000\n",
      "| epoch  22 |     0/ 1000 batches | lr 0.08 | ms/batch  0.29 | loss  0.07 | ppl     1.07\n",
      "| epoch  22 |   100/ 1000 batches | lr 0.08 | ms/batch  0.58 | loss  0.13 | ppl     1.14\n",
      "| epoch  22 |   200/ 1000 batches | lr 0.08 | ms/batch  0.58 | loss  0.13 | ppl     1.14\n",
      "| epoch  22 |   300/ 1000 batches | lr 0.08 | ms/batch  0.58 | loss  0.14 | ppl     1.15\n",
      "| epoch  22 |   400/ 1000 batches | lr 0.08 | ms/batch  0.58 | loss  0.14 | ppl     1.15\n",
      "| epoch  22 |   500/ 1000 batches | lr 0.08 | ms/batch  0.57 | loss  0.14 | ppl     1.15\n",
      "| epoch  22 |   600/ 1000 batches | lr 0.08 | ms/batch  0.58 | loss  0.14 | ppl     1.15\n",
      "| epoch  22 |   700/ 1000 batches | lr 0.08 | ms/batch  0.59 | loss  0.14 | ppl     1.15\n",
      "| epoch  22 |   800/ 1000 batches | lr 0.08 | ms/batch  0.58 | loss  0.14 | ppl     1.15\n",
      "| epoch  22 |   900/ 1000 batches | lr 0.08 | ms/batch  0.58 | loss  0.15 | ppl     1.16\n",
      "| epoch  22 |  1000/ 1000 batches | lr 0.08 | ms/batch  0.56 | loss  0.15 | ppl     1.16\n",
      "-----------------------------------------------------------------------------------------\n",
      "| end of epoch  22 | time:  2.01s | valid loss  7.58 | valid ppl  1962.94\n",
      "-----------------------------------------------------------------------------------------\n",
      "batch size =  2048 ; number of batches =  1000\n",
      "| epoch  23 |     0/ 1000 batches | lr 0.08 | ms/batch  0.28 | loss  0.07 | ppl     1.07\n",
      "| epoch  23 |   100/ 1000 batches | lr 0.08 | ms/batch  0.57 | loss  0.14 | ppl     1.15\n",
      "| epoch  23 |   200/ 1000 batches | lr 0.08 | ms/batch  0.59 | loss  0.13 | ppl     1.14\n",
      "| epoch  23 |   300/ 1000 batches | lr 0.08 | ms/batch  0.61 | loss  0.13 | ppl     1.14\n",
      "| epoch  23 |   400/ 1000 batches | lr 0.08 | ms/batch  0.58 | loss  0.15 | ppl     1.16\n",
      "| epoch  23 |   500/ 1000 batches | lr 0.08 | ms/batch  0.57 | loss  0.15 | ppl     1.16\n",
      "| epoch  23 |   600/ 1000 batches | lr 0.08 | ms/batch  0.58 | loss  0.14 | ppl     1.15\n",
      "| epoch  23 |   700/ 1000 batches | lr 0.08 | ms/batch  0.58 | loss  0.14 | ppl     1.14\n",
      "| epoch  23 |   800/ 1000 batches | lr 0.08 | ms/batch  0.57 | loss  0.15 | ppl     1.16\n",
      "| epoch  23 |   900/ 1000 batches | lr 0.08 | ms/batch  0.59 | loss  0.15 | ppl     1.16\n",
      "| epoch  23 |  1000/ 1000 batches | lr 0.08 | ms/batch  0.56 | loss  0.15 | ppl     1.16\n",
      "-----------------------------------------------------------------------------------------\n",
      "| end of epoch  23 | time:  2.03s | valid loss  7.65 | valid ppl  2090.42\n",
      "-----------------------------------------------------------------------------------------\n",
      "batch size =  2048 ; number of batches =  1000\n",
      "| epoch  24 |     0/ 1000 batches | lr 0.07 | ms/batch  0.28 | loss  0.07 | ppl     1.07\n",
      "| epoch  24 |   100/ 1000 batches | lr 0.07 | ms/batch  0.58 | loss  0.14 | ppl     1.15\n",
      "| epoch  24 |   200/ 1000 batches | lr 0.07 | ms/batch  0.59 | loss  0.14 | ppl     1.14\n",
      "| epoch  24 |   300/ 1000 batches | lr 0.07 | ms/batch  0.56 | loss  0.14 | ppl     1.15\n",
      "| epoch  24 |   400/ 1000 batches | lr 0.07 | ms/batch  0.59 | loss  0.14 | ppl     1.15\n",
      "| epoch  24 |   500/ 1000 batches | lr 0.07 | ms/batch  0.58 | loss  0.14 | ppl     1.15\n",
      "| epoch  24 |   600/ 1000 batches | lr 0.07 | ms/batch  0.58 | loss  0.14 | ppl     1.15\n",
      "| epoch  24 |   700/ 1000 batches | lr 0.07 | ms/batch  0.58 | loss  0.14 | ppl     1.15\n",
      "| epoch  24 |   800/ 1000 batches | lr 0.07 | ms/batch  0.58 | loss  0.15 | ppl     1.16\n",
      "| epoch  24 |   900/ 1000 batches | lr 0.07 | ms/batch  0.61 | loss  0.15 | ppl     1.16\n",
      "| epoch  24 |  1000/ 1000 batches | lr 0.07 | ms/batch  0.58 | loss  0.14 | ppl     1.15\n",
      "-----------------------------------------------------------------------------------------\n",
      "| end of epoch  24 | time:  2.12s | valid loss  7.19 | valid ppl  1324.72\n",
      "-----------------------------------------------------------------------------------------\n",
      "batch size =  2048 ; number of batches =  1000\n",
      "| epoch  25 |     0/ 1000 batches | lr 0.07 | ms/batch  0.29 | loss  0.07 | ppl     1.07\n",
      "| epoch  25 |   100/ 1000 batches | lr 0.07 | ms/batch  0.57 | loss  0.14 | ppl     1.15\n",
      "| epoch  25 |   200/ 1000 batches | lr 0.07 | ms/batch  0.57 | loss  0.14 | ppl     1.15\n",
      "| epoch  25 |   300/ 1000 batches | lr 0.07 | ms/batch  0.57 | loss  0.14 | ppl     1.15\n",
      "| epoch  25 |   400/ 1000 batches | lr 0.07 | ms/batch  0.57 | loss  0.15 | ppl     1.16\n",
      "| epoch  25 |   500/ 1000 batches | lr 0.07 | ms/batch  0.58 | loss  0.15 | ppl     1.16\n",
      "| epoch  25 |   600/ 1000 batches | lr 0.07 | ms/batch  0.58 | loss  0.14 | ppl     1.15\n",
      "| epoch  25 |   700/ 1000 batches | lr 0.07 | ms/batch  0.57 | loss  0.13 | ppl     1.14\n",
      "| epoch  25 |   800/ 1000 batches | lr 0.07 | ms/batch  0.57 | loss  0.13 | ppl     1.14\n",
      "| epoch  25 |   900/ 1000 batches | lr 0.07 | ms/batch  0.59 | loss  0.14 | ppl     1.15\n",
      "| epoch  25 |  1000/ 1000 batches | lr 0.07 | ms/batch  0.56 | loss  0.14 | ppl     1.15\n",
      "-----------------------------------------------------------------------------------------\n",
      "| end of epoch  25 | time:  2.15s | valid loss  7.51 | valid ppl  1829.81\n",
      "-----------------------------------------------------------------------------------------\n",
      "batch size =  2048 ; number of batches =  1000\n",
      "| epoch  26 |     0/ 1000 batches | lr 0.07 | ms/batch  0.29 | loss  0.07 | ppl     1.07\n",
      "| epoch  26 |   100/ 1000 batches | lr 0.07 | ms/batch  0.59 | loss  0.14 | ppl     1.15\n",
      "| epoch  26 |   200/ 1000 batches | lr 0.07 | ms/batch  0.59 | loss  0.13 | ppl     1.14\n",
      "| epoch  26 |   300/ 1000 batches | lr 0.07 | ms/batch  0.58 | loss  0.13 | ppl     1.14\n",
      "| epoch  26 |   400/ 1000 batches | lr 0.07 | ms/batch  0.59 | loss  0.14 | ppl     1.15\n",
      "| epoch  26 |   500/ 1000 batches | lr 0.07 | ms/batch  0.59 | loss  0.14 | ppl     1.16\n",
      "| epoch  26 |   600/ 1000 batches | lr 0.07 | ms/batch  0.59 | loss  0.14 | ppl     1.15\n",
      "| epoch  26 |   700/ 1000 batches | lr 0.07 | ms/batch  0.57 | loss  0.14 | ppl     1.14\n",
      "| epoch  26 |   800/ 1000 batches | lr 0.07 | ms/batch  0.59 | loss  0.14 | ppl     1.14\n",
      "| epoch  26 |   900/ 1000 batches | lr 0.07 | ms/batch  0.58 | loss  0.14 | ppl     1.15\n",
      "| epoch  26 |  1000/ 1000 batches | lr 0.07 | ms/batch  0.56 | loss  0.14 | ppl     1.15\n",
      "-----------------------------------------------------------------------------------------\n",
      "| end of epoch  26 | time:  2.11s | valid loss  7.73 | valid ppl  2279.92\n",
      "-----------------------------------------------------------------------------------------\n",
      "batch size =  2048 ; number of batches =  1000\n",
      "| epoch  27 |     0/ 1000 batches | lr 0.06 | ms/batch  0.29 | loss  0.07 | ppl     1.07\n",
      "| epoch  27 |   100/ 1000 batches | lr 0.06 | ms/batch  0.60 | loss  0.14 | ppl     1.15\n",
      "| epoch  27 |   200/ 1000 batches | lr 0.06 | ms/batch  0.60 | loss  0.13 | ppl     1.14\n",
      "| epoch  27 |   300/ 1000 batches | lr 0.06 | ms/batch  0.58 | loss  0.14 | ppl     1.15\n",
      "| epoch  27 |   400/ 1000 batches | lr 0.06 | ms/batch  0.58 | loss  0.13 | ppl     1.14\n",
      "| epoch  27 |   500/ 1000 batches | lr 0.06 | ms/batch  0.58 | loss  0.14 | ppl     1.15\n",
      "| epoch  27 |   600/ 1000 batches | lr 0.06 | ms/batch  0.59 | loss  0.14 | ppl     1.15\n",
      "| epoch  27 |   700/ 1000 batches | lr 0.06 | ms/batch  0.57 | loss  0.13 | ppl     1.14\n",
      "| epoch  27 |   800/ 1000 batches | lr 0.06 | ms/batch  0.59 | loss  0.13 | ppl     1.14\n",
      "| epoch  27 |   900/ 1000 batches | lr 0.06 | ms/batch  0.57 | loss  0.14 | ppl     1.15\n",
      "| epoch  27 |  1000/ 1000 batches | lr 0.06 | ms/batch  0.57 | loss  0.14 | ppl     1.15\n",
      "-----------------------------------------------------------------------------------------\n",
      "| end of epoch  27 | time:  2.27s | valid loss  7.96 | valid ppl  2862.90\n",
      "-----------------------------------------------------------------------------------------\n",
      "batch size =  2048 ; number of batches =  1000\n",
      "| epoch  28 |     0/ 1000 batches | lr 0.06 | ms/batch  0.30 | loss  0.07 | ppl     1.07\n",
      "| epoch  28 |   100/ 1000 batches | lr 0.06 | ms/batch  0.61 | loss  0.13 | ppl     1.14\n",
      "| epoch  28 |   200/ 1000 batches | lr 0.06 | ms/batch  0.63 | loss  0.13 | ppl     1.14\n",
      "| epoch  28 |   300/ 1000 batches | lr 0.06 | ms/batch  0.63 | loss  0.13 | ppl     1.14\n",
      "| epoch  28 |   400/ 1000 batches | lr 0.06 | ms/batch  0.61 | loss  0.13 | ppl     1.14\n",
      "| epoch  28 |   500/ 1000 batches | lr 0.06 | ms/batch  0.64 | loss  0.14 | ppl     1.15\n",
      "| epoch  28 |   600/ 1000 batches | lr 0.06 | ms/batch  0.65 | loss  0.13 | ppl     1.14\n",
      "| epoch  28 |   700/ 1000 batches | lr 0.06 | ms/batch  0.60 | loss  0.13 | ppl     1.14\n",
      "| epoch  28 |   800/ 1000 batches | lr 0.06 | ms/batch  0.60 | loss  0.14 | ppl     1.15\n",
      "| epoch  28 |   900/ 1000 batches | lr 0.06 | ms/batch  0.59 | loss  0.14 | ppl     1.15\n",
      "| epoch  28 |  1000/ 1000 batches | lr 0.06 | ms/batch  0.58 | loss  0.14 | ppl     1.15\n",
      "-----------------------------------------------------------------------------------------\n",
      "| end of epoch  28 | time:  2.20s | valid loss  7.72 | valid ppl  2262.61\n",
      "-----------------------------------------------------------------------------------------\n",
      "batch size =  2048 ; number of batches =  1000\n",
      "| epoch  29 |     0/ 1000 batches | lr 0.06 | ms/batch  0.32 | loss  0.07 | ppl     1.07\n",
      "| epoch  29 |   100/ 1000 batches | lr 0.06 | ms/batch  0.59 | loss  0.13 | ppl     1.14\n",
      "| epoch  29 |   200/ 1000 batches | lr 0.06 | ms/batch  0.65 | loss  0.13 | ppl     1.14\n",
      "| epoch  29 |   300/ 1000 batches | lr 0.06 | ms/batch  0.63 | loss  0.14 | ppl     1.15\n",
      "| epoch  29 |   400/ 1000 batches | lr 0.06 | ms/batch  0.60 | loss  0.14 | ppl     1.15\n",
      "| epoch  29 |   500/ 1000 batches | lr 0.06 | ms/batch  0.58 | loss  0.14 | ppl     1.15\n",
      "| epoch  29 |   600/ 1000 batches | lr 0.06 | ms/batch  0.60 | loss  0.14 | ppl     1.15\n",
      "| epoch  29 |   700/ 1000 batches | lr 0.06 | ms/batch  0.59 | loss  0.14 | ppl     1.15\n",
      "| epoch  29 |   800/ 1000 batches | lr 0.06 | ms/batch  0.58 | loss  0.14 | ppl     1.15\n",
      "| epoch  29 |   900/ 1000 batches | lr 0.06 | ms/batch  0.57 | loss  0.14 | ppl     1.15\n",
      "| epoch  29 |  1000/ 1000 batches | lr 0.06 | ms/batch  0.56 | loss  0.14 | ppl     1.15\n",
      "-----------------------------------------------------------------------------------------\n",
      "| end of epoch  29 | time:  2.06s | valid loss  7.49 | valid ppl  1798.71\n",
      "-----------------------------------------------------------------------------------------\n",
      "batch size =  2048 ; number of batches =  1000\n",
      "| epoch  30 |     0/ 1000 batches | lr 0.05 | ms/batch  0.28 | loss  0.07 | ppl     1.07\n",
      "| epoch  30 |   100/ 1000 batches | lr 0.05 | ms/batch  0.57 | loss  0.13 | ppl     1.14\n",
      "| epoch  30 |   200/ 1000 batches | lr 0.05 | ms/batch  0.58 | loss  0.13 | ppl     1.14\n",
      "| epoch  30 |   300/ 1000 batches | lr 0.05 | ms/batch  0.56 | loss  0.14 | ppl     1.15\n",
      "| epoch  30 |   400/ 1000 batches | lr 0.05 | ms/batch  0.59 | loss  0.14 | ppl     1.15\n",
      "| epoch  30 |   500/ 1000 batches | lr 0.05 | ms/batch  0.58 | loss  0.14 | ppl     1.15\n",
      "| epoch  30 |   600/ 1000 batches | lr 0.05 | ms/batch  0.57 | loss  0.13 | ppl     1.14\n",
      "| epoch  30 |   700/ 1000 batches | lr 0.05 | ms/batch  0.57 | loss  0.14 | ppl     1.15\n",
      "| epoch  30 |   800/ 1000 batches | lr 0.05 | ms/batch  0.57 | loss  0.14 | ppl     1.15\n",
      "| epoch  30 |   900/ 1000 batches | lr 0.05 | ms/batch  0.58 | loss  0.14 | ppl     1.15\n",
      "| epoch  30 |  1000/ 1000 batches | lr 0.05 | ms/batch  0.58 | loss  0.14 | ppl     1.15\n",
      "-----------------------------------------------------------------------------------------\n",
      "| end of epoch  30 | time:  2.27s | valid loss  7.47 | valid ppl  1758.95\n",
      "-----------------------------------------------------------------------------------------\n",
      "batch size =  2048 ; number of batches =  1000\n",
      "| epoch  31 |     0/ 1000 batches | lr 0.05 | ms/batch  0.39 | loss  0.07 | ppl     1.07\n",
      "| epoch  31 |   100/ 1000 batches | lr 0.05 | ms/batch  0.80 | loss  0.13 | ppl     1.14\n",
      "| epoch  31 |   200/ 1000 batches | lr 0.05 | ms/batch  0.71 | loss  0.13 | ppl     1.14\n",
      "| epoch  31 |   300/ 1000 batches | lr 0.05 | ms/batch  0.78 | loss  0.14 | ppl     1.14\n",
      "| epoch  31 |   400/ 1000 batches | lr 0.05 | ms/batch  0.65 | loss  0.13 | ppl     1.14\n",
      "| epoch  31 |   500/ 1000 batches | lr 0.05 | ms/batch  0.59 | loss  0.14 | ppl     1.15\n",
      "| epoch  31 |   600/ 1000 batches | lr 0.05 | ms/batch  0.62 | loss  0.14 | ppl     1.15\n",
      "| epoch  31 |   700/ 1000 batches | lr 0.05 | ms/batch  0.60 | loss  0.14 | ppl     1.15\n",
      "| epoch  31 |   800/ 1000 batches | lr 0.05 | ms/batch  0.60 | loss  0.15 | ppl     1.16\n",
      "| epoch  31 |   900/ 1000 batches | lr 0.05 | ms/batch  0.58 | loss  0.14 | ppl     1.15\n",
      "| epoch  31 |  1000/ 1000 batches | lr 0.05 | ms/batch  0.58 | loss  0.14 | ppl     1.15\n",
      "-----------------------------------------------------------------------------------------\n",
      "| end of epoch  31 | time:  2.27s | valid loss  7.24 | valid ppl  1389.25\n",
      "-----------------------------------------------------------------------------------------\n",
      "batch size =  2048 ; number of batches =  1000\n",
      "| epoch  32 |     0/ 1000 batches | lr 0.05 | ms/batch  0.29 | loss  0.07 | ppl     1.07\n",
      "| epoch  32 |   100/ 1000 batches | lr 0.05 | ms/batch  0.57 | loss  0.13 | ppl     1.14\n",
      "| epoch  32 |   200/ 1000 batches | lr 0.05 | ms/batch  0.58 | loss  0.13 | ppl     1.14\n",
      "| epoch  32 |   300/ 1000 batches | lr 0.05 | ms/batch  0.59 | loss  0.13 | ppl     1.14\n",
      "| epoch  32 |   400/ 1000 batches | lr 0.05 | ms/batch  0.60 | loss  0.14 | ppl     1.15\n",
      "| epoch  32 |   500/ 1000 batches | lr 0.05 | ms/batch  0.57 | loss  0.14 | ppl     1.15\n",
      "| epoch  32 |   600/ 1000 batches | lr 0.05 | ms/batch  0.60 | loss  0.14 | ppl     1.15\n",
      "| epoch  32 |   700/ 1000 batches | lr 0.05 | ms/batch  0.60 | loss  0.14 | ppl     1.15\n",
      "| epoch  32 |   800/ 1000 batches | lr 0.05 | ms/batch  0.58 | loss  0.14 | ppl     1.15\n",
      "| epoch  32 |   900/ 1000 batches | lr 0.05 | ms/batch  0.58 | loss  0.14 | ppl     1.15\n",
      "| epoch  32 |  1000/ 1000 batches | lr 0.05 | ms/batch  0.57 | loss  0.14 | ppl     1.15\n",
      "-----------------------------------------------------------------------------------------\n",
      "| end of epoch  32 | time:  2.37s | valid loss  7.32 | valid ppl  1505.11\n",
      "-----------------------------------------------------------------------------------------\n",
      "batch size =  2048 ; number of batches =  1000\n",
      "| epoch  33 |     0/ 1000 batches | lr 0.05 | ms/batch  0.29 | loss  0.07 | ppl     1.07\n",
      "| epoch  33 |   100/ 1000 batches | lr 0.05 | ms/batch  0.58 | loss  0.14 | ppl     1.15\n",
      "| epoch  33 |   200/ 1000 batches | lr 0.05 | ms/batch  0.59 | loss  0.14 | ppl     1.15\n",
      "| epoch  33 |   300/ 1000 batches | lr 0.05 | ms/batch  0.60 | loss  0.14 | ppl     1.15\n",
      "| epoch  33 |   400/ 1000 batches | lr 0.05 | ms/batch  0.60 | loss  0.14 | ppl     1.15\n",
      "| epoch  33 |   500/ 1000 batches | lr 0.05 | ms/batch  0.57 | loss  0.14 | ppl     1.14\n",
      "| epoch  33 |   600/ 1000 batches | lr 0.05 | ms/batch  0.58 | loss  0.13 | ppl     1.14\n",
      "| epoch  33 |   700/ 1000 batches | lr 0.05 | ms/batch  0.60 | loss  0.14 | ppl     1.15\n",
      "| epoch  33 |   800/ 1000 batches | lr 0.05 | ms/batch  0.57 | loss  0.14 | ppl     1.15\n",
      "| epoch  33 |   900/ 1000 batches | lr 0.05 | ms/batch  0.59 | loss  0.14 | ppl     1.15\n",
      "| epoch  33 |  1000/ 1000 batches | lr 0.05 | ms/batch  0.58 | loss  0.14 | ppl     1.15\n",
      "-----------------------------------------------------------------------------------------\n",
      "| end of epoch  33 | time:  2.17s | valid loss  7.48 | valid ppl  1770.78\n",
      "-----------------------------------------------------------------------------------------\n",
      "batch size =  2048 ; number of batches =  1000\n",
      "| epoch  34 |     0/ 1000 batches | lr 0.04 | ms/batch  0.30 | loss  0.07 | ppl     1.07\n",
      "| epoch  34 |   100/ 1000 batches | lr 0.04 | ms/batch  0.60 | loss  0.13 | ppl     1.14\n",
      "| epoch  34 |   200/ 1000 batches | lr 0.04 | ms/batch  0.62 | loss  0.13 | ppl     1.14\n",
      "| epoch  34 |   300/ 1000 batches | lr 0.04 | ms/batch  0.63 | loss  0.14 | ppl     1.15\n",
      "| epoch  34 |   400/ 1000 batches | lr 0.04 | ms/batch  0.63 | loss  0.13 | ppl     1.14\n",
      "| epoch  34 |   500/ 1000 batches | lr 0.04 | ms/batch  0.60 | loss  0.14 | ppl     1.15\n",
      "| epoch  34 |   600/ 1000 batches | lr 0.04 | ms/batch  0.58 | loss  0.13 | ppl     1.14\n",
      "| epoch  34 |   700/ 1000 batches | lr 0.04 | ms/batch  0.61 | loss  0.13 | ppl     1.14\n"
     ]
    },
    {
     "ename": "KeyboardInterrupt",
     "evalue": "",
     "output_type": "error",
     "traceback": [
      "\u001b[1;31m---------------------------------------------------------------------------\u001b[0m",
      "\u001b[1;31mKeyboardInterrupt\u001b[0m                         Traceback (most recent call last)",
      "Cell \u001b[1;32mIn[90], line 19\u001b[0m\n\u001b[0;32m     16\u001b[0m \u001b[38;5;28;01mfor\u001b[39;00m epoch \u001b[38;5;129;01min\u001b[39;00m \u001b[38;5;28mrange\u001b[39m(\u001b[38;5;241m0\u001b[39m, epochs):\n\u001b[0;32m     17\u001b[0m     epoch_start_time \u001b[38;5;241m=\u001b[39m time\u001b[38;5;241m.\u001b[39mtime()\n\u001b[1;32m---> 19\u001b[0m     train_losses_temp \u001b[38;5;241m=\u001b[39m \u001b[43mtrain\u001b[49m\u001b[43m(\u001b[49m\u001b[43mmodel\u001b[49m\u001b[43m,\u001b[49m\u001b[43m \u001b[49m\u001b[43mverbose\u001b[49m\u001b[38;5;241;43m=\u001b[39;49m\u001b[38;5;28;43;01mFalse\u001b[39;49;00m\u001b[43m)\u001b[49m\n\u001b[0;32m     20\u001b[0m     train_losses \u001b[38;5;241m+\u001b[39m\u001b[38;5;241m=\u001b[39m train_losses_temp\n\u001b[0;32m     22\u001b[0m     val_loss \u001b[38;5;241m=\u001b[39m evaluate(model, val_data)\n",
      "Cell \u001b[1;32mIn[85], line 31\u001b[0m, in \u001b[0;36mtrain\u001b[1;34m(model, verbose)\u001b[0m\n\u001b[0;32m     28\u001b[0m torch\u001b[38;5;241m.\u001b[39mnn\u001b[38;5;241m.\u001b[39mutils\u001b[38;5;241m.\u001b[39mclip_grad_norm_(model\u001b[38;5;241m.\u001b[39mparameters(), \u001b[38;5;241m0.5\u001b[39m)\n\u001b[0;32m     29\u001b[0m optimizer\u001b[38;5;241m.\u001b[39mstep()\n\u001b[1;32m---> 31\u001b[0m total_loss \u001b[38;5;241m+\u001b[39m\u001b[38;5;241m=\u001b[39m \u001b[43mloss\u001b[49m\u001b[38;5;241;43m.\u001b[39;49m\u001b[43mitem\u001b[49m\u001b[43m(\u001b[49m\u001b[43m)\u001b[49m\n\u001b[0;32m     32\u001b[0m \u001b[38;5;28;01mif\u001b[39;00m batch \u001b[38;5;241m%\u001b[39m log_interval \u001b[38;5;241m==\u001b[39m \u001b[38;5;241m0\u001b[39m:\n\u001b[0;32m     33\u001b[0m     lr \u001b[38;5;241m=\u001b[39m scheduler\u001b[38;5;241m.\u001b[39mget_last_lr()[\u001b[38;5;241m0\u001b[39m]\n",
      "\u001b[1;31mKeyboardInterrupt\u001b[0m: "
     ]
    }
   ],
   "source": [
    "import time\n",
    "import numpy as np\n",
    "best_val_loss = float('inf')\n",
    "epochs = 1000\n",
    "save_model_epochs = 10\n",
    "model, optimizer, scheduler = new_model()\n",
    "# model_file_name = './data/model_epoch_10.pth'\n",
    "# model.load_state_dict(torch.load(model_file_name))\n",
    "\n",
    "train_losses = []\n",
    "val_losses = []\n",
    "\n",
    "with TemporaryDirectory() as tempdir:\n",
    "    best_model_params_path = os.path.join(tempdir, \"best_model_params.pt\")\n",
    "\n",
    "    for epoch in range(0, epochs):\n",
    "        epoch_start_time = time.time()\n",
    "\n",
    "        train_losses_temp = train(model, verbose=False)\n",
    "        train_losses += train_losses_temp\n",
    "\n",
    "        val_loss = evaluate(model, val_data)\n",
    "        val_losses += [val_loss]\n",
    "        val_ppl = math.exp(val_loss)\n",
    "        elapsed = time.time() - epoch_start_time\n",
    "        print('-' * 89)\n",
    "        print(f'| end of epoch {epoch:3d} | time: {elapsed:5.2f}s | '\n",
    "              f'valid loss {val_loss:5.2f} | valid ppl {val_ppl:8.2f}')\n",
    "        print('-' * 89)\n",
    "\n",
    "        if epoch % save_model_epochs == 0:\n",
    "            # time_stamp = str(time.strftime(\"%Y-%m-%d_%H:%M:%S\"))\n",
    "            model_file_name = './data/model_epoch_'+str(epoch)+'.pth'\n",
    "            torch.save(model.state_dict(), model_file_name)\n",
    "            train_losses_file_name = './data/train_losses_epoch'+str(epoch)+'.csv'\n",
    "            train_loss_out = np.array(train_losses)\n",
    "            train_loss_out.tofile(train_losses_file_name, sep=',', format='%0.4f')\n",
    "            val_losses_file_name = './data/val_losses_epoch'+str(epoch)+'.csv'\n",
    "            val_loss_out = np.array(val_losses)\n",
    "            val_loss_out.tofile(val_losses_file_name, sep=',', format='%0.4f')\n",
    "        scheduler.step()"
   ]
  },
  {
   "cell_type": "code",
   "execution_count": null,
   "id": "cd7b3eb1",
   "metadata": {},
   "outputs": [
    {
     "name": "stdout",
     "output_type": "stream",
     "text": [
      "[0.083 0.252 0.179 0.073 0.088 0.1   0.109 0.096 0.085 0.081 0.075 0.086\n",
      " 0.081 0.087 0.071 0.066 0.08  0.077 0.086 0.084 0.074 0.085 0.092 0.086\n",
      " 0.081 0.084 0.089 0.091 0.078 0.075 0.077 0.075 0.082 0.084 0.09  0.091\n",
      " 0.083 0.075 0.074 0.078 0.082 0.085 0.085 0.079 0.078 0.076 0.083 0.084\n",
      " 0.083 0.074 0.067 0.065 0.072 0.073 0.073 0.08  0.076 0.075 0.07  0.069\n",
      " 0.069 0.069 0.068 0.074 0.079 0.079]\n"
     ]
    }
   ],
   "source": [
    "train_losses_file_name = './'+'train_losses_epoch'+str(epoch)+'.csv'\n",
    "lossesscv = np.array(train_losses).round(3)\n",
    "print(lossesscv)\n",
    "# np.savetxt(train_losses_file_name, lossesscv, delimiter=\",\")\n",
    "lossesscv.tofile(train_losses_file_name,sep=',',format='%0.4f')"
   ]
  },
  {
   "cell_type": "code",
   "execution_count": null,
   "id": "9d6c4edc",
   "metadata": {},
   "outputs": [
    {
     "data": {
      "text/plain": [
       "array([0.083, 0.252, 0.179, 0.073, 0.088, 0.1  , 0.109, 0.096, 0.085,\n",
       "       0.081, 0.075, 0.086, 0.081, 0.087, 0.071, 0.066, 0.08 , 0.077,\n",
       "       0.086, 0.084, 0.074, 0.085, 0.092, 0.086, 0.081, 0.084, 0.089,\n",
       "       0.091, 0.078, 0.075, 0.077, 0.075, 0.082, 0.084, 0.09 , 0.091,\n",
       "       0.083, 0.075, 0.074, 0.078, 0.082, 0.085, 0.085, 0.079, 0.078,\n",
       "       0.076, 0.083, 0.084, 0.083, 0.074, 0.067, 0.065, 0.072, 0.073,\n",
       "       0.073, 0.08 , 0.076, 0.075, 0.07 , 0.069, 0.069, 0.069, 0.068,\n",
       "       0.074, 0.079, 0.079])"
      ]
     },
     "execution_count": 431,
     "metadata": {},
     "output_type": "execute_result"
    }
   ],
   "source": [
    "np.array(train_losses).round(3)"
   ]
  },
  {
   "cell_type": "code",
   "execution_count": null,
   "id": "711d19eb",
   "metadata": {},
   "outputs": [
    {
     "data": {
      "image/png": "[encoded data removed]",
      "text/plain": [
       "<Figure size 640x480 with 1 Axes>"
      ]
     },
     "metadata": {},
     "output_type": "display_data"
    }
   ],
   "source": [
    "import matplotlib.pyplot as plt\n",
    "\n",
    "plt.plot(train_losses)\n",
    "plt.show()"
   ]
  },
  {
   "cell_type": "code",
   "execution_count": null,
   "id": "a3739267ee6d59cf",
   "metadata": {
    "ExecuteTime": {
     "end_time": "2023-12-22T05:01:14.977250300Z",
     "start_time": "2023-12-22T05:01:14.977250300Z"
    },
    "collapsed": false
   },
   "outputs": [
    {
     "name": "stdout",
     "output_type": "stream",
     "text": [
      "=========================================================================================\n",
      "| End of training | test loss  8.70 | test ppl  6020.76\n",
      "=========================================================================================\n"
     ]
    }
   ],
   "source": [
    "test_loss = evaluate(model, test_data)\n",
    "test_ppl = math.exp(test_loss)\n",
    "print('=' * 89)\n",
    "print(f'| End of training | test loss {test_loss:5.2f} | '\n",
    "      f'test ppl {test_ppl:8.2f}')\n",
    "print('=' * 89)"
   ]
  },
  {
   "cell_type": "code",
   "execution_count": null,
   "id": "9c0c15b0",
   "metadata": {},
   "outputs": [
    {
     "name": "stdout",
     "output_type": "stream",
     "text": [
      "Train:\n",
      "tensor([   9, 3849, 3869,  ..., 2442, 4810,    3], device='cuda:0')\n",
      "torch.Size([2049990])\n",
      "9.187452700594196\n",
      "Validation:\n",
      "tensor([    9,  9606, 25610,  ...,     9,     9,     9], device='cuda:0')\n",
      "torch.Size([214417])\n",
      "8.768819147130907\n",
      "Test:\n",
      "tensor([   9,  632,    0,  ..., 7213,    0,    3], device='cuda:0')\n",
      "torch.Size([241859])\n",
      "8.702968146449683\n"
     ]
    }
   ],
   "source": [
    "print(\"Train:\")\n",
    "print(train_data)\n",
    "print(train_data.shape)\n",
    "print(evaluate(model, train_data))\n",
    "\n",
    "print(\"Validation:\")\n",
    "print(val_data)\n",
    "print(val_data.shape)\n",
    "print(evaluate(model, val_data))\n",
    "\n",
    "print(\"Test:\")\n",
    "print(test_data)\n",
    "print(test_data.shape)\n",
    "print(evaluate(model, test_data))"
   ]
  },
  {
   "cell_type": "code",
   "execution_count": null,
   "id": "71f6e3ad",
   "metadata": {},
   "outputs": [],
   "source": [
    "from datetime import datetime"
   ]
  },
  {
   "cell_type": "code",
   "execution_count": null,
   "id": "f144189e",
   "metadata": {},
   "outputs": [
    {
     "data": {
      "text/plain": [
       "datetime.datetime(2023, 12, 30, 2, 2, 48, 741089)"
      ]
     },
     "execution_count": 436,
     "metadata": {},
     "output_type": "execute_result"
    }
   ],
   "source": [
    "datetime.now()"
   ]
  },
  {
   "cell_type": "code",
   "execution_count": null,
   "id": "5960eb34",
   "metadata": {},
   "outputs": [
    {
     "name": "stdout",
     "output_type": "stream",
     "text": [
      "2023-12-30_02:02:48_epoch\n"
     ]
    }
   ],
   "source": [
    "import time\n",
    "time_stamp = time.strftime(\"%Y-%m-%d_%H:%M:%S\")\n",
    "fname = time_stamp+'_epoch'\n",
    "print(fname)"
   ]
  },
  {
   "cell_type": "code",
   "execution_count": null,
   "id": "5b0c37d1",
   "metadata": {},
   "outputs": [
    {
     "name": "stdout",
     "output_type": "stream",
     "text": [
      "2023-12-30_02:02:48\n"
     ]
    }
   ],
   "source": [
    "\n",
    "print(time_stamp)\n"
   ]
  },
  {
   "cell_type": "code",
   "execution_count": null,
   "id": "eb8eca12988a9a99",
   "metadata": {
    "ExecuteTime": {
     "end_time": "2023-12-22T06:08:30.107239300Z",
     "start_time": "2023-12-22T06:08:30.069221100Z"
    },
    "collapsed": false
   },
   "outputs": [
    {
     "data": {
      "text/plain": [
       "'NVIDIA GeForce RTX 4070 Laptop GPU'"
      ]
     },
     "execution_count": 439,
     "metadata": {},
     "output_type": "execute_result"
    }
   ],
   "source": [
    "# torch.cuda.current_device()     # The ID of the current GPU.\n",
    "torch.cuda.get_device_name()"
   ]
  }
 ],
 "metadata": {
  "kernelspec": {
   "display_name": "Python 3 (ipykernel)",
   "language": "python",
   "name": "python3"
  },
  "language_info": {
   "codemirror_mode": {
    "name": "ipython",
    "version": 3
   },
   "file_extension": ".py",
   "mimetype": "text/x-python",
   "name": "python",
   "nbconvert_exporter": "python",
   "pygments_lexer": "ipython3",
   "version": "3.9.18"
  }
 },
 "nbformat": 4,
 "nbformat_minor": 5
}
