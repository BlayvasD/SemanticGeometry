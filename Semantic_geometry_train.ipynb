{
 "cells": [
  {
   "cell_type": "code",
   "execution_count": 14,
   "id": "62016cab48535386",
   "metadata": {
    "ExecuteTime": {
     "end_time": "2023-12-22T04:58:17.392991Z",
     "start_time": "2023-12-22T04:58:01.225926200Z"
    },
    "collapsed": false
   },
   "outputs": [],
   "source": [
    "import math\n",
    "import os\n",
    "from tempfile import TemporaryDirectory\n",
    "from typing import Tuple\n",
    "x = 10\n",
    "import torch\n",
    "from torch import nn, Tensor\n",
    "from torch.nn import TransformerEncoder, TransformerEncoderLayer\n",
    "from torch.utils.data import dataset"
   ]
  },
  {
   "cell_type": "code",
   "execution_count": 15,
   "id": "2efb6c78281ceaef",
   "metadata": {
    "ExecuteTime": {
     "end_time": "2023-12-22T04:58:18.851162500Z",
     "start_time": "2023-12-22T04:58:17.396048200Z"
    },
    "collapsed": false
   },
   "outputs": [
    {
     "name": "stdout",
     "output_type": "stream",
     "text": [
      "cuda\n"
     ]
    }
   ],
   "source": [
    "device = torch.device('cuda' if torch.cuda.is_available() else 'cpu')\n",
    "# device = torch.device('cpu')\n",
    "print(device)"
   ]
  },
  {
   "cell_type": "code",
   "execution_count": 16,
   "id": "41767dc5a46f289d",
   "metadata": {
    "ExecuteTime": {
     "end_time": "2023-12-22T04:58:18.859209900Z",
     "start_time": "2023-12-22T04:58:18.846090500Z"
    },
    "collapsed": false
   },
   "outputs": [
    {
     "name": "stdout",
     "output_type": "stream",
     "text": [
      "Cuda is available\n"
     ]
    }
   ],
   "source": [
    "if torch.cuda.is_available():\n",
    "    print(\"Cuda is available\")\n",
    "else:\n",
    "    if 'cpu' in torch.__version__:\n",
    "        print(\"NOT using cuda, torch version is +cpu instead of +cu\")\n",
    "    else:\n",
    "        print(\"NOT using cuda, assert torch.cuda.is_available() failed\")"
   ]
  },
  {
   "cell_type": "code",
   "execution_count": 17,
   "id": "1ae3e77c0437e9bd",
   "metadata": {
    "ExecuteTime": {
     "end_time": "2023-12-22T04:58:18.987461700Z",
     "start_time": "2023-12-22T04:58:18.882721500Z"
    },
    "collapsed": false
   },
   "outputs": [],
   "source": [
    "class TransformerModel(nn.Module):\n",
    "\n",
    "    def __init__(self, ntoken: int, d_model: int, nhead: int, d_hid: int,\n",
    "                 nlayers: int, dropout: float = 0.5):\n",
    "        super().__init__()\n",
    "        self.model_type = 'Transformer'\n",
    "        self.pos_encoder = PositionalEncoding(d_model, dropout)\n",
    "        encoder_layers = TransformerEncoderLayer(d_model, nhead, d_hid, dropout)\n",
    "        self.transformer_encoder = TransformerEncoder(encoder_layers, nlayers)\n",
    "        self.embedding = nn.Embedding(ntoken, d_model)\n",
    "        self.d_model = d_model\n",
    "        self.linear = nn.Linear(d_model, ntoken)\n",
    "\n",
    "        self.init_weights()\n",
    "\n",
    "    def init_weights(self) -> None:\n",
    "        initrange = 0.1\n",
    "        self.embedding.weight.data.uniform_(-initrange, initrange)\n",
    "        self.linear.bias.data.zero_()\n",
    "        self.linear.weight.data.uniform_(-initrange, initrange)\n",
    "\n",
    "    def forward(self, src: Tensor, src_mask: Tensor = None, verbose = False) -> Tensor:\n",
    "        \"\"\"\n",
    "        Arguments:\n",
    "            src: Tensor, shape ``[seq_len, batch_size]``\n",
    "            src_mask: Tensor, shape ``[seq_len, seq_len]``\n",
    "\n",
    "        Returns:\n",
    "            output Tensor of shape ``[seq_len, batch_size, ntoken]``\n",
    "        \"\"\"\n",
    "        if verbose:\n",
    "            print(\"Forward pass now ~~~~~~~~~~~~~~~~\")\n",
    "            print(\"Shape of input:\", src.shape)\n",
    "            print(src)\n",
    "        src = self.embedding(src) * math.sqrt(self.d_model)\n",
    "        if verbose:\n",
    "            print(\"Shape after embedding:\", src.shape)\n",
    "            print(src)\n",
    "        src = self.pos_encoder(src)\n",
    "        if verbose:\n",
    "            print(\"Shape after positional encoding:\", src.shape)\n",
    "            print(src)\n",
    "        if src_mask is None:\n",
    "            \"\"\"Generate a square causal mask for the sequence. The masked positions are filled with float('-inf').\n",
    "            Unmasked positions are filled with float(0.0).\n",
    "            \"\"\"\n",
    "            src_mask = nn.Transformer.generate_square_subsequent_mask(len(src)).to(device)\n",
    "        if verbose:\n",
    "            print(\"Shape of mask:\", src_mask.shape)\n",
    "            print(src_mask)\n",
    "        output = self.transformer_encoder(src, src_mask)\n",
    "        if verbose:\n",
    "            print(\"Shape after transformer encoding:\", output.shape)\n",
    "            print(output)\n",
    "        output = self.linear(output)\n",
    "        if verbose:\n",
    "            print(\"Shape after linear:\", output.shape)\n",
    "            print(output)\n",
    "        return output\n",
    "    \n",
    "    def __call__(self, src: Tensor, src_mask: Tensor = None, verbose = False) -> Tensor:\n",
    "        return self.forward(src, src_mask = None, verbose = verbose)\n",
    "    \n",
    "    "
   ]
  },
  {
   "cell_type": "code",
   "execution_count": 18,
   "id": "7f6a54cef4bb8cde",
   "metadata": {
    "ExecuteTime": {
     "end_time": "2023-12-22T04:58:19.014460500Z",
     "start_time": "2023-12-22T04:58:18.912720200Z"
    },
    "collapsed": false
   },
   "outputs": [],
   "source": [
    "class PositionalEncoding(nn.Module):\n",
    "\n",
    "    def __init__(self, d_model: int, dropout: float = 0.1, max_len: int = 5000):\n",
    "        super().__init__()\n",
    "        self.dropout = nn.Dropout(p=dropout)\n",
    "\n",
    "        position = torch.arange(max_len).unsqueeze(1)\n",
    "        div_term = torch.exp(torch.arange(0, d_model, 2) * (-math.log(10000.0) / d_model))\n",
    "        pe = torch.zeros(max_len, 1, d_model)\n",
    "        pe[:, 0, 0::2] = torch.sin(position * div_term)\n",
    "        pe[:, 0, 1::2] = torch.cos(position * div_term)\n",
    "        self.register_buffer('pe', pe)\n",
    "\n",
    "    def forward(self, x: Tensor) -> Tensor:\n",
    "        \"\"\"\n",
    "        Arguments:\n",
    "            x: Tensor, shape ``[seq_len, batch_size, embedding_dim]``\n",
    "        \"\"\"\n",
    "        # print(\"PE: Shape of input to PosEnc.forward():\", x.shape)\n",
    "        # print(\"PE: Shape of self.pe[:x.size(0)]:\", self.pe[:x.size(0)].shape)\n",
    "        x = x + self.pe[:x.size(0)].squeeze(1)\n",
    "        # print(\"PE: Shape of output after adding PE:\", x.shape)\n",
    "        # print(\"PE: Shape of output after dropout:\", self.dropout(x).shape)\n",
    "        return self.dropout(x)\n",
    "    \n",
    "    def __call__(self, x: Tensor) -> Tensor:\n",
    "        return self.forward(x)\n",
    "    "
   ]
  },
  {
   "cell_type": "code",
   "execution_count": 19,
   "id": "d886062fb778dff1",
   "metadata": {
    "ExecuteTime": {
     "end_time": "2023-12-22T04:58:19.017493500Z",
     "start_time": "2023-12-22T04:58:18.920783900Z"
    },
    "collapsed": false
   },
   "outputs": [],
   "source": [
    "# %pip install portalocker\n",
    "# %pip install torchdata"
   ]
  },
  {
   "cell_type": "code",
   "execution_count": 20,
   "id": "7febc57dbb36b90a",
   "metadata": {
    "ExecuteTime": {
     "end_time": "2023-12-22T04:58:19.037463800Z",
     "start_time": "2023-12-22T04:58:18.940150100Z"
    },
    "collapsed": false
   },
   "outputs": [],
   "source": [
    "# %%bash\n",
    "# pip install torchtext"
   ]
  },
  {
   "cell_type": "code",
   "execution_count": 21,
   "id": "dca593c316a53bed",
   "metadata": {
    "ExecuteTime": {
     "end_time": "2023-12-22T04:58:27.164372200Z",
     "start_time": "2023-12-22T04:58:18.982465200Z"
    },
    "collapsed": false
   },
   "outputs": [
    {
     "name": "stdout",
     "output_type": "stream",
     "text": [
      "batch size, seq_len:  20 102499\n",
      "batch size, seq_len:  10 21441\n",
      "batch size, seq_len:  10 24185\n"
     ]
    }
   ],
   "source": [
    "from torchtext.datasets import WikiText2\n",
    "from torchtext.data.utils import get_tokenizer\n",
    "from torchtext.vocab import build_vocab_from_iterator\n",
    "\n",
    "train_iter = WikiText2(split='train')\n",
    "tokenizer = get_tokenizer('basic_english')\n",
    "vocab = build_vocab_from_iterator(map(tokenizer, train_iter), specials=['<unk>'])\n",
    "vocab.set_default_index(vocab['<unk>'])\n",
    "\n",
    "def data_process(raw_text_iter: dataset.IterableDataset) -> Tensor:\n",
    "    \"\"\"Converts raw text into a flat Tensor.\"\"\"\n",
    "    data = [torch.tensor(vocab(tokenizer(item)), dtype=torch.long) for item in raw_text_iter]\n",
    "    return torch.cat(tuple(filter(lambda t: t.numel() > 0, data)))\n",
    "\n",
    "# ``train_iter`` was \"consumed\" by the process of building the vocab,\n",
    "# so we have to create it again\n",
    "train_iter, val_iter, test_iter = WikiText2()\n",
    "train_data = data_process(train_iter)\n",
    "val_data = data_process(val_iter)\n",
    "test_data = data_process(test_iter)\n",
    "\n",
    "def batchify(data: Tensor, bsz: int) -> Tensor:\n",
    "    \"\"\"Divides the data into ``bsz`` separate sequences, removing extra elements\n",
    "    that wouldn't cleanly fit.\n",
    "\n",
    "    Arguments:\n",
    "        data: Tensor, shape ``[N]``\n",
    "        bsz: int, batch size\n",
    "\n",
    "    Returns:\n",
    "        Tensor of shape ``[N // bsz, bsz]``\n",
    "    \"\"\"\n",
    "    seq_len = data.size(0) // bsz\n",
    "    print('batch size, seq_len: ', bsz, seq_len)\n",
    "    data = data[:seq_len * bsz]\n",
    "    data = data.view(bsz, seq_len).t().contiguous()\n",
    "    return data.to(device)\n",
    "\n",
    "batch_size = 20\n",
    "eval_batch_size = 10\n",
    "train_data = batchify(train_data, batch_size)  # shape ``[seq_len, batch_size]``\n",
    "val_data = batchify(val_data, eval_batch_size)\n",
    "test_data = batchify(test_data, eval_batch_size)"
   ]
  },
  {
   "cell_type": "code",
   "execution_count": 22,
   "id": "d803acffc2ec94f2",
   "metadata": {
    "ExecuteTime": {
     "end_time": "2023-12-22T04:58:31.078717800Z",
     "start_time": "2023-12-22T04:58:27.180908500Z"
    },
    "collapsed": false
   },
   "outputs": [
    {
     "data": {
      "text/plain": [
       "2049990"
      ]
     },
     "execution_count": 22,
     "metadata": {},
     "output_type": "execute_result"
    }
   ],
   "source": [
    "train_data = data_process(train_iter)\n",
    "train_data = train_data.to(device)\n",
    "\n",
    "val_data = data_process(val_iter)\n",
    "val_data = val_data.to(device)\n",
    "\n",
    "test_data = data_process(test_iter)\n",
    "test_data = test_data.to(device)\n",
    "\n",
    "len(train_data)"
   ]
  },
  {
   "cell_type": "code",
   "execution_count": 23,
   "id": "d88d2c892cda70c2",
   "metadata": {
    "ExecuteTime": {
     "end_time": "2023-12-22T04:58:31.139456500Z",
     "start_time": "2023-12-22T04:58:31.067470500Z"
    },
    "collapsed": false
   },
   "outputs": [
    {
     "data": {
      "text/plain": [
       "tensor([   9, 3849, 3869,  ..., 2442, 4810,    3], device='cuda:0')"
      ]
     },
     "execution_count": 23,
     "metadata": {},
     "output_type": "execute_result"
    }
   ],
   "source": [
    "train_data"
   ]
  },
  {
   "cell_type": "code",
   "execution_count": 24,
   "id": "e11b24eabd79dae",
   "metadata": {
    "ExecuteTime": {
     "end_time": "2023-12-22T04:58:31.172462300Z",
     "start_time": "2023-12-22T04:58:31.105238300Z"
    },
    "collapsed": false
   },
   "outputs": [],
   "source": [
    "# bptt = 256\n",
    "# bptt = 1024\n",
    "bptt = 2048\n",
    "# bptt = 3072\n",
    "def get_batch(source: Tensor, i: int) -> Tuple[Tensor, Tensor]:\n",
    "    \"\"\"\n",
    "    Args:\n",
    "        source: Tensor, shape ``[full_seq_len, batch_size]``\n",
    "        i: int\n",
    "\n",
    "    Returns:\n",
    "        tuple (data, target), where data has shape ``[seq_len, batch_size]`` and\n",
    "        target has shape ``[seq_len * batch_size]``\n",
    "    \"\"\"\n",
    "    seq_len = min(bptt, len(source) - 1 - i)\n",
    "    data = source[i:i+seq_len]\n",
    "    target = source[i+1:i+1+seq_len].reshape(-1)\n",
    "    return data, target"
   ]
  },
  {
   "cell_type": "code",
   "execution_count": 25,
   "id": "4d6bf4cf",
   "metadata": {},
   "outputs": [],
   "source": [
    "optimizer, scheduler = None, None"
   ]
  },
  {
   "cell_type": "code",
   "execution_count": 26,
   "id": "8293d59742313d7a",
   "metadata": {
    "ExecuteTime": {
     "end_time": "2023-12-22T14:43:43.635007100Z",
     "start_time": "2023-12-22T14:43:37.773007100Z"
    },
    "collapsed": false
   },
   "outputs": [],
   "source": [
    "import time\n",
    "\n",
    "criterion = nn.CrossEntropyLoss()\n",
    "\n",
    "def train(model: nn.Module, verbose=False) -> None:\n",
    "    \n",
    "    model.train()  # turn on train mode\n",
    "    total_loss = 0.\n",
    "    log_interval = 100\n",
    "    start_time = time.time()\n",
    "\n",
    "    train_losses = []\n",
    "\n",
    "    num_batches = len(train_data) // bptt\n",
    "    print('batch size = ', bptt, '; number of batches = ', num_batches)\n",
    "    for batch, i in enumerate(range(0, train_data.size(0) - 1, bptt)):\n",
    "        data, targets = get_batch(train_data, i)\n",
    "        data, targets = data.to(device), targets.to(device)\n",
    "\n",
    "        output = model(data, verbose=verbose)\n",
    "        loss = criterion(output, targets)\n",
    "\n",
    "        optimizer.zero_grad()\n",
    "        loss.backward()\n",
    "        torch.nn.utils.clip_grad_norm_(model.parameters(), 0.5)\n",
    "        optimizer.step()\n",
    "    \n",
    "        total_loss += loss.item()\n",
    "        if batch % log_interval == 0 and batch > 0:\n",
    "            lr = scheduler.get_last_lr()[0]\n",
    "            ms_per_batch = (time.time() - start_time) * 1000 / log_interval\n",
    "            start_time = time.time()\n",
    "            cur_loss = total_loss / log_interval\n",
    "            train_losses.append(cur_loss)\n",
    "            ppl = math.exp(cur_loss)\n",
    "            print(f'| epoch {epoch:3d} | {batch:5d}/{num_batches:5d} batches | '\n",
    "                  f'lr {lr:02.2f} | ms/batch {ms_per_batch:5.2f} | '\n",
    "                  f'loss {cur_loss:5.2f} | ppl {ppl:8.2f}')\n",
    "            total_loss = 0\n",
    "\n",
    "    return train_losses\n",
    "\n",
    "def evaluate(model: nn.Module, eval_data: Tensor) -> float:\n",
    "    model.eval()  # turn on evaluation mode\n",
    "    total_loss = 0.\n",
    "    with torch.no_grad():\n",
    "        for i in range(0, eval_data.size(0) - 1, bptt):\n",
    "            data, targets = get_batch(eval_data, i)\n",
    "            seq_len = data.size(0)\n",
    "            data = data.to(device)\n",
    "            output = model(data)\n",
    "            output_flat = output.view(-1, ntokens)\n",
    "            # total_loss += seq_len * criterion(output_flat, targets).item()\n",
    "            total_loss += criterion(output_flat, targets).item()\n",
    "    return total_loss / (len(eval_data) - 1)"
   ]
  },
  {
   "cell_type": "code",
   "execution_count": 27,
   "id": "473190a6",
   "metadata": {},
   "outputs": [],
   "source": [
    "ntokens = len(vocab)  # size of vocabulary\n",
    "emsize = 50  # embedding dimension (default 200)\n",
    "d_hid = 200  # dimension of the feedforward network model in ``nn.TransformerEncoder``\n",
    "nlayers = 2  # number of ``nn.TransformerEncoderLayer`` in ``nn.TransformerEncoder``\n",
    "nhead = 2  # number of heads in ``nn.MultiheadAttention``\n",
    "dropout = 0.2  # dropout probability"
   ]
  },
  {
   "cell_type": "code",
   "execution_count": 28,
   "id": "b6a14b6a",
   "metadata": {},
   "outputs": [],
   "source": [
    "lr = 0.25  # learning rate"
   ]
  },
  {
   "cell_type": "code",
   "execution_count": 29,
   "id": "bd4844ca",
   "metadata": {},
   "outputs": [],
   "source": [
    "def new_model():\n",
    "    model = TransformerModel(ntokens, emsize, nhead, d_hid, nlayers, dropout).to(device)\n",
    "    optimizer = torch.optim.AdamW(model.parameters(), lr=lr)\n",
    "    scheduler = torch.optim.lr_scheduler.StepLR(optimizer, 1.0, gamma=0.95)\n",
    "    return model, optimizer, scheduler"
   ]
  },
  {
   "cell_type": "code",
   "execution_count": 30,
   "id": "079675e8",
   "metadata": {},
   "outputs": [
    {
     "name": "stderr",
     "output_type": "stream",
     "text": [
      "c:\\Users\\ilya\\anaconda3\\envs\\p39n\\lib\\site-packages\\torch\\nn\\modules\\transformer.py:282: UserWarning: enable_nested_tensor is True, but self.use_nested_tensor is False because encoder_layer.self_attn.batch_first was not True(use batch_first for better inference performance)\n",
      "  warnings.warn(f\"enable_nested_tensor is True, but self.use_nested_tensor is False because {why_not_sparsity_fast_path}\")\n"
     ]
    }
   ],
   "source": [
    "model, optimizer, scheduler = new_model()\n",
    "\n",
    "data, targets = get_batch(train_data, 0)\n",
    "data, targets = data.to(device), targets.to(device)\n",
    "\n",
    "output = model(data, verbose=False)"
   ]
  },
  {
   "cell_type": "code",
   "execution_count": 32,
   "id": "a0e82ee2",
   "metadata": {},
   "outputs": [
    {
     "name": "stderr",
     "output_type": "stream",
     "text": [
      "c:\\Users\\ilya\\anaconda3\\envs\\p39n\\lib\\site-packages\\torch\\nn\\modules\\transformer.py:282: UserWarning: enable_nested_tensor is True, but self.use_nested_tensor is False because encoder_layer.self_attn.batch_first was not True(use batch_first for better inference performance)\n",
      "  warnings.warn(f\"enable_nested_tensor is True, but self.use_nested_tensor is False because {why_not_sparsity_fast_path}\")\n"
     ]
    },
    {
     "name": "stdout",
     "output_type": "stream",
     "text": [
      "batch size =  2048 ; number of batches =  1000\n"
     ]
    },
    {
     "ename": "AttributeError",
     "evalue": "'float' object has no attribute 'round'",
     "output_type": "error",
     "traceback": [
      "\u001b[1;31m---------------------------------------------------------------------------\u001b[0m",
      "\u001b[1;31mAttributeError\u001b[0m                            Traceback (most recent call last)",
      "Cell \u001b[1;32mIn[32], line 13\u001b[0m\n\u001b[0;32m     11\u001b[0m \u001b[38;5;28;01mfor\u001b[39;00m epoch \u001b[38;5;129;01min\u001b[39;00m \u001b[38;5;28mrange\u001b[39m(\u001b[38;5;241m1\u001b[39m, epochs \u001b[38;5;241m+\u001b[39m \u001b[38;5;241m1\u001b[39m):\n\u001b[0;32m     12\u001b[0m     epoch_start_time \u001b[38;5;241m=\u001b[39m time\u001b[38;5;241m.\u001b[39mtime()\n\u001b[1;32m---> 13\u001b[0m     train_losses_temp \u001b[38;5;241m=\u001b[39m \u001b[43mtrain\u001b[49m\u001b[43m(\u001b[49m\u001b[43mmodel\u001b[49m\u001b[43m,\u001b[49m\u001b[43m \u001b[49m\u001b[43mverbose\u001b[49m\u001b[38;5;241;43m=\u001b[39;49m\u001b[38;5;28;43;01mFalse\u001b[39;49;00m\u001b[43m)\u001b[49m\n\u001b[0;32m     14\u001b[0m     \u001b[38;5;28mprint\u001b[39m(train_losses)\n\u001b[0;32m     15\u001b[0m     \u001b[38;5;28mprint\u001b[39m(train_losses_temp)\n",
      "Cell \u001b[1;32mIn[26], line 28\u001b[0m, in \u001b[0;36mtrain\u001b[1;34m(model, verbose)\u001b[0m\n\u001b[0;32m     25\u001b[0m torch\u001b[38;5;241m.\u001b[39mnn\u001b[38;5;241m.\u001b[39mutils\u001b[38;5;241m.\u001b[39mclip_grad_norm_(model\u001b[38;5;241m.\u001b[39mparameters(), \u001b[38;5;241m0.5\u001b[39m)\n\u001b[0;32m     26\u001b[0m optimizer\u001b[38;5;241m.\u001b[39mstep()\n\u001b[1;32m---> 28\u001b[0m total_loss \u001b[38;5;241m+\u001b[39m\u001b[38;5;241m=\u001b[39m \u001b[43mloss\u001b[49m\u001b[38;5;241;43m.\u001b[39;49m\u001b[43mitem\u001b[49m\u001b[43m(\u001b[49m\u001b[43m)\u001b[49m\u001b[38;5;241;43m.\u001b[39;49m\u001b[43mround\u001b[49m(\u001b[38;5;241m2\u001b[39m)\n\u001b[0;32m     29\u001b[0m \u001b[38;5;28;01mif\u001b[39;00m batch \u001b[38;5;241m%\u001b[39m log_interval \u001b[38;5;241m==\u001b[39m \u001b[38;5;241m0\u001b[39m \u001b[38;5;129;01mand\u001b[39;00m batch \u001b[38;5;241m>\u001b[39m \u001b[38;5;241m0\u001b[39m:\n\u001b[0;32m     30\u001b[0m     lr \u001b[38;5;241m=\u001b[39m scheduler\u001b[38;5;241m.\u001b[39mget_last_lr()[\u001b[38;5;241m0\u001b[39m]\n",
      "\u001b[1;31mAttributeError\u001b[0m: 'float' object has no attribute 'round'"
     ]
    }
   ],
   "source": [
    "best_val_loss = float('inf')\n",
    "epochs = 20\n",
    "\n",
    "model, optimizer, scheduler = new_model()\n",
    "\n",
    "train_losses = []\n",
    "\n",
    "with TemporaryDirectory() as tempdir:\n",
    "    best_model_params_path = os.path.join(tempdir, \"best_model_params.pt\")\n",
    "\n",
    "    for epoch in range(1, epochs + 1):\n",
    "        epoch_start_time = time.time()\n",
    "        train_losses_temp = train(model, verbose=False)\n",
    "        print(train_losses)\n",
    "        print(train_losses_temp)\n",
    "        train_losses += train_losses_temp\n",
    "        val_loss = evaluate(model, val_data)\n",
    "        val_ppl = math.exp(val_loss)\n",
    "        elapsed = time.time() - epoch_start_time\n",
    "        print('-' * 89)\n",
    "        print(f'| end of epoch {epoch:3d} | time: {elapsed:5.2f}s | '\n",
    "              f'valid loss {val_loss:5.2f} | valid ppl {val_ppl:8.2f}')\n",
    "        print('-' * 89)\n",
    "\n",
    "        if val_loss < best_val_loss:\n",
    "            best_val_loss = val_loss\n",
    "            torch.save(model.state_dict(), best_model_params_path)\n",
    "\n",
    "        scheduler.step()\n",
    "    model.load_state_dict(torch.load(best_model_params_path)) # load best model states"
   ]
  },
  {
   "cell_type": "code",
   "execution_count": null,
   "id": "711d19eb",
   "metadata": {},
   "outputs": [],
   "source": [
    "import matplotlib.pyplot as plt\n",
    "\n",
    "plt.plot(train_losses)\n",
    "plt.show()"
   ]
  },
  {
   "cell_type": "code",
   "execution_count": null,
   "id": "a3739267ee6d59cf",
   "metadata": {
    "ExecuteTime": {
     "end_time": "2023-12-22T05:01:14.977250300Z",
     "start_time": "2023-12-22T05:01:14.977250300Z"
    },
    "collapsed": false
   },
   "outputs": [
    {
     "name": "stdout",
     "output_type": "stream",
     "text": [
      "=========================================================================================\n",
      "| End of training | test loss  7.57 | test ppl  1931.36\n",
      "=========================================================================================\n"
     ]
    }
   ],
   "source": [
    "test_loss = evaluate(model, test_data)\n",
    "test_ppl = math.exp(test_loss)\n",
    "print('=' * 89)\n",
    "print(f'| End of training | test loss {test_loss:5.2f} | '\n",
    "      f'test ppl {test_ppl:8.2f}')\n",
    "print('=' * 89)"
   ]
  },
  {
   "cell_type": "code",
   "execution_count": null,
   "id": "eb8eca12988a9a99",
   "metadata": {
    "ExecuteTime": {
     "end_time": "2023-12-22T06:08:30.107239300Z",
     "start_time": "2023-12-22T06:08:30.069221100Z"
    },
    "collapsed": false
   },
   "outputs": [
    {
     "data": {
      "text/plain": [
       "'NVIDIA GeForce RTX 4070 Laptop GPU'"
      ]
     },
     "execution_count": 40,
     "metadata": {},
     "output_type": "execute_result"
    }
   ],
   "source": [
    "# torch.cuda.current_device()     # The ID of the current GPU.\n",
    "torch.cuda.get_device_name()"
   ]
  },
  {
   "cell_type": "code",
   "execution_count": null,
   "id": "fdac42de",
   "metadata": {},
   "outputs": [
    {
     "name": "stdout",
     "output_type": "stream",
     "text": [
      "test loss 10.36\n",
      "test loss 10.33\n",
      "test loss 10.37\n",
      "test loss 10.34\n",
      "test loss 10.31\n",
      "test loss 10.36\n",
      "test loss 10.39\n",
      "test loss 10.32\n",
      "test loss 10.36\n",
      "test loss 10.34\n"
     ]
    }
   ],
   "source": [
    "model = TransformerModel(ntokens, emsize, nhead, d_hid, nlayers, dropout).to(device)\n",
    "optimizer = torch.optim.AdamW(model.parameters(), lr=lr)\n",
    "scheduler = torch.optim.lr_scheduler.StepLR(optimizer, 1.0, gamma=0.95)\n",
    "\n",
    "for _ in range(10):\n",
    "    model.init_weights()\n",
    "\n",
    "    test_loss = evaluate(model, val_data)\n",
    "    print(f'test loss {test_loss:5.2f}')"
   ]
  }
 ],
 "metadata": {
  "kernelspec": {
   "display_name": "Python 3 (ipykernel)",
   "language": "python",
   "name": "python3"
  },
  "language_info": {
   "codemirror_mode": {
    "name": "ipython",
    "version": 3
   },
   "file_extension": ".py",
   "mimetype": "text/x-python",
   "name": "python",
   "nbconvert_exporter": "python",
   "pygments_lexer": "ipython3",
   "version": "3.9.18"
  }
 },
 "nbformat": 4,
 "nbformat_minor": 5
}
